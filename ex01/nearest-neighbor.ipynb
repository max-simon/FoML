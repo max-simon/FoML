{
 "cells": [
  {
   "cell_type": "markdown",
   "metadata": {},
   "source": [
    "# 2.1 Exploring data for handwritten digits"
   ]
  },
  {
   "cell_type": "code",
   "execution_count": 1,
   "metadata": {},
   "outputs": [
    {
     "name": "stderr",
     "output_type": "stream",
     "text": [
      "/Users/maxsimon/anaconda/lib/python3.6/site-packages/sklearn/cross_validation.py:44: DeprecationWarning: This module was deprecated in version 0.18 in favor of the model_selection module into which all the refactored classes and functions are moved. Also note that the interface of the new CV iterators are different from that of this module. This module will be removed in 0.20.\n",
      "  \"This module will be removed in 0.20.\", DeprecationWarning)\n"
     ]
    },
    {
     "name": "stdout",
     "output_type": "stream",
     "text": [
      "Populating the interactive namespace from numpy and matplotlib\n"
     ]
    }
   ],
   "source": [
    "from sklearn.datasets import load_digits\n",
    "from sklearn import cross_validation\n",
    "from sklearn.neighbors import KNeighborsClassifier\n",
    "\n",
    "import numpy as np\n",
    "import sklearn as skl\n",
    "from matplotlib import pyplot as plt\n",
    "%pylab inline"
   ]
  },
  {
   "cell_type": "code",
   "execution_count": 2,
   "metadata": {},
   "outputs": [
    {
     "name": "stdout",
     "output_type": "stream",
     "text": [
      "dict_keys(['data', 'target', 'target_names', 'images', 'DESCR'])\n"
     ]
    }
   ],
   "source": [
    "digits = load_digits()\n",
    "print(digits.keys())"
   ]
  },
  {
   "cell_type": "code",
   "execution_count": 3,
   "metadata": {
    "collapsed": true
   },
   "outputs": [],
   "source": [
    "data = digits['data']\n",
    "images = digits['images']\n",
    "target = digits['target']\n",
    "target_names = digits['target_names']"
   ]
  },
  {
   "cell_type": "code",
   "execution_count": 4,
   "metadata": {},
   "outputs": [
    {
     "name": "stdout",
     "output_type": "stream",
     "text": [
      "First 3 at index 3\n"
     ]
    },
    {
     "data": {
      "image/png": "[encoded data removed]",
      "text/plain": [
       "<matplotlib.figure.Figure at 0x111d2bef0>"
      ]
     },
     "metadata": {},
     "output_type": "display_data"
    }
   ],
   "source": [
    "# show the first 3\n",
    "\n",
    "ndx = np.argwhere(target == 3)[0][0]\n",
    "\n",
    "print('First 3 at index {:d}'.format(ndx))\n",
    "fig, ax = plt.subplots(1, 1)\n",
    "ax.imshow(images[ndx])\n",
    "plt.show()"
   ]
  },
  {
   "cell_type": "code",
   "execution_count": 5,
   "metadata": {
    "collapsed": true
   },
   "outputs": [],
   "source": [
    "# split data into training and test data\n",
    "X_all = data\n",
    "y_all = target\n",
    "\n",
    "X_train , X_test , y_train , y_test = cross_validation.train_test_split(digits.data, digits.target, test_size=0.4, random_state=0)"
   ]
  },
  {
   "cell_type": "markdown",
   "metadata": {},
   "source": [
    "# 2.2 and 2.3 Distance functions"
   ]
  },
  {
   "cell_type": "code",
   "execution_count": 6,
   "metadata": {
    "collapsed": true
   },
   "outputs": [],
   "source": [
    "def dist_loop(training, test):\n",
    "    \"\"\"\n",
    "    This function calculates the distance matrix between training- and test data.\n",
    "    \"\"\"\n",
    "    dist = np.empty((training.shape[0], test.shape[0]))\n",
    "    for i in range(training.shape[0]):\n",
    "        for j in range(test.shape[0]):\n",
    "            dist[i, j] = np.sqrt(np.sum(np.square(training[i] - test[j])))\n",
    "    return dist\n",
    "\n",
    "def dist_vec(training, test):\n",
    "    \"\"\"\n",
    "    This function calculates the distance matrix between training- and test data using the vectorisation of the l2 norm:\n",
    "    (x-y)^2 = x^2 - 2*x*y + y^2\n",
    "    \"\"\"\n",
    "    dist = np.sqrt(np.sum(training**2, axis=1) - 2*np.dot(test, training.T) + np.sum(test**2, axis=1)[:, np.newaxis])\n",
    "    return dist.T"
   ]
  },
  {
   "cell_type": "code",
   "execution_count": 7,
   "metadata": {},
   "outputs": [
    {
     "name": "stdout",
     "output_type": "stream",
     "text": [
      "1 loop, best of 3: 11.7 s per loop\n"
     ]
    }
   ],
   "source": [
    "# Measuring execution time for loop\n",
    "%timeit dist_loop(X_train, X_test)\n",
    "dist_from_loop = dist_loop(X_train, X_test)"
   ]
  },
  {
   "cell_type": "code",
   "execution_count": 8,
   "metadata": {},
   "outputs": [
    {
     "name": "stdout",
     "output_type": "stream",
     "text": [
      "100 loops, best of 3: 13.7 ms per loop\n"
     ]
    }
   ],
   "source": [
    "# measuring execution time for vectorisation\n",
    "%timeit dist_vec(X_train, X_test)\n",
    "dist_from_vec = dist_vec(X_train, X_test)"
   ]
  },
  {
   "cell_type": "code",
   "execution_count": 9,
   "metadata": {},
   "outputs": [
    {
     "name": "stdout",
     "output_type": "stream",
     "text": [
      "True\n"
     ]
    }
   ],
   "source": [
    "# check if both matrices are the same\n",
    "print(np.array_equal(dist_from_loop, dist_from_vec))"
   ]
  },
  {
   "cell_type": "markdown",
   "metadata": {},
   "source": [
    "As you can see above, the vectorisation decreases the execution time much more (factor 1000) and the result is the same."
   ]
  },
  {
   "cell_type": "markdown",
   "metadata": {},
   "source": [
    "# 2.4 and 2.5 Nearest Neighbour classifier"
   ]
  },
  {
   "cell_type": "code",
   "execution_count": 10,
   "metadata": {
    "collapsed": true
   },
   "outputs": [],
   "source": [
    "class NearestNeighbour:\n",
    "    \n",
    "    def __init__(self, k, dist_func, x_train, y_train):\n",
    "        # store some presets\n",
    "        self.k = k # k-value for 2.5\n",
    "        self.dist_func = dist_func # function to use for distance matrix calculation\n",
    "        # trainingsdata\n",
    "        self.x_train = x_train\n",
    "        self.y_train = y_train\n",
    "    \n",
    "    @staticmethod\n",
    "    def filter_for_value(features, labels, values):\n",
    "        \"\"\"\n",
    "        This function extracts from the features and labels only those, whose label is in the given values.\n",
    "        \"\"\"\n",
    "        return features[np.isin(labels, values)], labels[np.isin(labels, values)]\n",
    "    \n",
    "    def majorityVote(self, elements):\n",
    "        \"\"\"\n",
    "        Perform a simple majority vote on the array elements.\n",
    "        \"\"\"\n",
    "        unique, counts = np.unique(elements, return_counts=True)\n",
    "        return unique[np.argmax(counts)]\n",
    "    \n",
    "    def classify(self, x, label_values = [0, 1, 2, 3, 4, 5, 6, 7, 8, 9]):\n",
    "        \"\"\"\n",
    "        Classify the set of features x. For the classification only the labels in label_values are considered\n",
    "        \"\"\"\n",
    "        # filter trainingsdata for the label_values\n",
    "        reduced_x_train, reduced_y_train = NearestNeighbour.filter_for_value(self.x_train, self.y_train, label_values)\n",
    "        # calculate distance matrix\n",
    "        distances = self.dist_func(reduced_x_train, x)\n",
    "        \n",
    "        # if only NearestNeighbour:\n",
    "        # ndx = np.argmin(distances, axis=0); return reduced_y_train[ndx]    \n",
    "        \n",
    "        # get the k indices with the smallest distance\n",
    "        ndx = np.argsort(distances, axis=0)[:self.k, :]\n",
    "        # create the decision array by making for each feature a majority vote\n",
    "        decision = [self.majorityVote(reduced_y_train[ndx][:,i]) for i in range(ndx.shape[1])]\n",
    "        return np.array(decision)\n",
    "        \n",
    "    def test(self, x_test, y_test, label_values = [0, 1, 2, 3, 4, 5, 6, 7, 8, 9]):\n",
    "        \"\"\"\n",
    "        Testing a dataset of features and labels. Allowed labels can be specified with label_values\n",
    "        \"\"\"\n",
    "        # filter data for the label_values\n",
    "        reduced_x_test, reduced_y_test = self.filter_for_value(x_test, y_test, label_values)\n",
    "        # perform a classification\n",
    "        classification = self.classify(reduced_x_test, label_values)\n",
    "        # calculate the score\n",
    "        score = np.count_nonzero(classification - reduced_y_test)/reduced_y_test.shape[0]\n",
    "        return score\n",
    "    \n",
    "    "
   ]
  },
  {
   "cell_type": "code",
   "execution_count": 28,
   "metadata": {},
   "outputs": [
    {
     "name": "stdout",
     "output_type": "stream",
     "text": [
      "score 1 - 7:  0.0\n",
      "score 1 - 3:  0.0\n"
     ]
    }
   ],
   "source": [
    "# decide whether 1 or 7\n",
    "NN = NearestNeighbour(1, dist_vec, X_train, y_train)\n",
    "print('score 1 - 7: ', NN.test(X_test, y_test, [1, 7]))\n",
    "print('score 1 - 3: ', NN.test(X_test, y_test, [1, 3]))"
   ]
  },
  {
   "cell_type": "code",
   "execution_count": 26,
   "metadata": {},
   "outputs": [
    {
     "name": "stdout",
     "output_type": "stream",
     "text": [
      "score 3 - 9:  0.013888888888888888\n"
     ]
    }
   ],
   "source": [
    "# decide whether 3 or 9\n",
    "NN = NearestNeighbour(1, dist_vec, X_train, y_train)\n",
    "print('score 3 - 9: ', NN.test(X_test, y_test, [3, 9]))"
   ]
  },
  {
   "cell_type": "code",
   "execution_count": 27,
   "metadata": {},
   "outputs": [
    {
     "data": {
      "image/png": "[encoded data removed]",
      "text/plain": [
       "<matplotlib.figure.Figure at 0x111d2bba8>"
      ]
     },
     "metadata": {},
     "output_type": "display_data"
    }
   ],
   "source": [
    "# try different k's\n",
    "ks = range(1, 33)\n",
    "errors = []\n",
    "errors_sklearn = []\n",
    "\n",
    "testing_labels = [3, 9] # allowed labels, original only [1, 7]\n",
    "\n",
    "for k in ks:\n",
    "    NN = NearestNeighbour(k, dist_vec, X_train, y_train)\n",
    "    errors.append(NN.test(X_test, y_test, testing_labels)) \n",
    "    # comparison to sklearn\n",
    "    skNN = KNeighborsClassifier(n_neighbors=k)\n",
    "    skNN.fit(*NearestNeighbour.filter_for_value(X_train, y_train, testing_labels))\n",
    "    errors_sklearn.append(1 - skNN.score(*NearestNeighbour.filter_for_value(X_test, y_test, testing_labels)))\n",
    "\n",
    "# present results\n",
    "fig, ax = plt.subplots(1, 1)\n",
    "ax.plot(ks, errors, label=\"own\")\n",
    "ax.plot(ks, errors_sklearn, label=\"sklearn\")\n",
    "ax.set_xlabel(\"k\")\n",
    "ax.set_ylabel(\"error_rate\")\n",
    "ax.legend()\n",
    "plt.show()"
   ]
  },
  {
   "cell_type": "markdown",
   "metadata": {},
   "source": [
    "The NearestNeighbour-Algorithm can perfectly distinguish between 1 and 3 as well as between 1 and 7. Therefore I chose the pair 3 and 9.\n",
    "As you can see in the plot above, the consideration of up to 7 or 13 nearest neighbours lead to better results. Taking more neighbours into account, however, pushs the error rate again.\n",
    "\n",
    "I compared the results to the KNeighborsClassifier from sklearn. As you can see in the plot, both implementations classify the test data the same way (orange line directly above the blue one)."
   ]
  },
  {
   "cell_type": "markdown",
   "metadata": {},
   "source": [
    "# 3 Cross validation"
   ]
  },
  {
   "cell_type": "code",
   "execution_count": 37,
   "metadata": {
    "collapsed": true
   },
   "outputs": [],
   "source": [
    "def get_folds(n, features, labels):\n",
    "    \"\"\"\n",
    "    Shuffles the entries and put them into folds.\n",
    "    \"\"\"\n",
    "    # create a list of indices\n",
    "    indices = np.arange(labels.shape[0], dtype=int)\n",
    "    # shuffle the indices\n",
    "    np.random.shuffle(indices)\n",
    "    \n",
    "    # calculate the fold size\n",
    "    fold_size = round(labels.shape[0]/n)\n",
    "    \n",
    "    # create folds, n-1 because last fold has to buffer the rounding \n",
    "    folds = [[features[fold_size*i:fold_size*(i+1)], labels[fold_size*i:fold_size*(i+1)]] for i in range(n-1)]\n",
    "    folds.append([features[fold_size*(n-1):], labels[fold_size*(n-1):]])\n",
    "    \n",
    "    return folds\n",
    "\n",
    "def create_train_test(folds, use_fold):\n",
    "    \"\"\"\n",
    "    This function creates training and test data out of a fold array. The fold-index use_fold is used for testing dataset.\n",
    "    \"\"\"\n",
    "    training_features = np.array([]).reshape((0, folds[0][0].shape[1])) # reshape to an empty array suitable for the features\n",
    "    training_labels = np.array([]) # array suitable for labels\n",
    "\n",
    "    for j in range(len(folds)):\n",
    "        if j != use_fold:\n",
    "            training_features = numpy.append(training_features, folds[j][0], axis=0)\n",
    "            training_labels = numpy.append(training_labels, folds[j][1])\n",
    "    \n",
    "    return training_features, training_labels, folds[use_fold][0], folds[use_fold][1]\n",
    "    \n",
    "    \n",
    "    "
   ]
  },
  {
   "cell_type": "markdown",
   "metadata": {},
   "source": [
    "Now I test different foldsizes with both kNearestNeighbour implementations (my one and sklearn).\n",
    "Because the question refers to 2.4 I used $k = 1$ for both. The classification contains all digits."
   ]
  },
  {
   "cell_type": "code",
   "execution_count": 39,
   "metadata": {},
   "outputs": [
    {
     "data": {
      "image/png": "[encoded data removed]",
      "text/plain": [
       "<matplotlib.figure.Figure at 0x111b40668>"
      ]
     },
     "metadata": {},
     "output_type": "display_data"
    }
   ],
   "source": [
    "ns = range(2, 12) # number of folds\n",
    "\n",
    "# arrays to store the results\n",
    "error_mean_own = []\n",
    "error_std_own = []\n",
    "error_mean_sklearn = []\n",
    "error_std_sklearn = []\n",
    "\n",
    "# loop over the ns to test\n",
    "for n in ns:\n",
    "    \n",
    "    folds = get_folds(n, X_all, y_all) # get the folds\n",
    "    \n",
    "    # arrays to store results\n",
    "    error_own = []\n",
    "    error_sklearn = []\n",
    "    \n",
    "    for i in range(len(folds)): # loop over fold indices\n",
    "        \n",
    "        # split the data into training data and test data\n",
    "        fold_x_train, fold_y_train, fold_x_test, fold_y_test = create_train_test(folds, i)\n",
    "        \n",
    "        # create an instance of my implementation \n",
    "        NN = NearestNeighbour(1, dist_vec, fold_x_train, fold_y_train) # set k = 1\n",
    "        error_own.append(NN.test(fold_x_test, fold_y_test)) \n",
    "        # comparison to sklearn\n",
    "        skNN = KNeighborsClassifier(n_neighbors=1) # set k = 1\n",
    "        skNN.fit(fold_x_train, fold_y_train)\n",
    "        error_sklearn.append(1 - skNN.score(fold_x_test, fold_y_test)) # score gives 1 - error\n",
    "        \n",
    "    # calculate results\n",
    "    error_mean_own.append(np.mean(error_own))\n",
    "    error_std_own.append(np.std(error_own))\n",
    "    error_mean_sklearn.append(np.mean(error_sklearn))\n",
    "    error_std_sklearn.append(np.std(error_sklearn))\n",
    "\n",
    "    \n",
    "# plotting\n",
    "fig, ax = plt.subplots(1, 1)\n",
    "\n",
    "ax.errorbar(ns, error_mean_own, yerr=error_std_own, label=\"own\")\n",
    "ax.errorbar(ns, error_mean_sklearn, yerr=error_std_sklearn, label=\"sklearn\")\n",
    "\n",
    "ax.set_xlabel('# folds')\n",
    "ax.set_ylabel('error rate')\n",
    "\n",
    "ax.legend()\n",
    "plt.show()"
   ]
  },
  {
   "cell_type": "markdown",
   "metadata": {},
   "source": [
    "As you can see in the plot, both classifiers behave very similar.\n",
    "The error rate decreases for a larger number of folds. This is reasonable since the total amount of training data is growing with the number of folds.\n",
    "The standard deviation of the error rates gets also larger with the number of folds, which can be explained with the decreasing amount of test data."
   ]
  },
  {
   "cell_type": "code",
   "execution_count": null,
   "metadata": {
    "collapsed": true
   },
   "outputs": [],
   "source": []
  }
 ],
 "metadata": {
  "kernelspec": {
   "display_name": "Python 3",
   "language": "python",
   "name": "python3"
  },
  "language_info": {
   "codemirror_mode": {
    "name": "ipython",
    "version": 3
   },
   "file_extension": ".py",
   "mimetype": "text/x-python",
   "name": "python",
   "nbconvert_exporter": "python",
   "pygments_lexer": "ipython3",
   "version": "3.6.1"
  }
 },
 "nbformat": 4,
 "nbformat_minor": 2
}
