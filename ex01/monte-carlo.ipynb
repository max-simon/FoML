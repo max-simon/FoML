{
 "cells": [
  {
   "cell_type": "code",
   "execution_count": 1,
   "metadata": {},
   "outputs": [
    {
     "name": "stdout",
     "output_type": "stream",
     "text": [
      "Populating the interactive namespace from numpy and matplotlib\n"
     ]
    }
   ],
   "source": [
    "import numpy as np\n",
    "import sklearn as skl\n",
    "from matplotlib import pyplot as plt\n",
    "%pylab inline"
   ]
  },
  {
   "cell_type": "markdown",
   "metadata": {},
   "source": [
    "# 1.1 Inverse Transform sampling\n",
    "\n",
    "For Y = 0:\n",
    "\\begin{align}\n",
    "    F_{Y=0} &= \\int_{-\\inf}^{x} p_{Y=0}(x') \\text{d}x' = \\int_0^x 2-2x'\\text{d}x' = 2x' - x'^2\\big\\vert_0^x\\\\\n",
    "    &= 2x - x^2 \\stackrel{!}{=} u, \\quad u\\text{ sampled from Unif(0, 1)}\\\\\n",
    "    &\\Rightarrow x^2 - 2x + u = 0\\\\\n",
    "    &\\Rightarrow x = 1 \\pm \\sqrt{1 - u}\\\\\n",
    "    \\\\\n",
    "    X \\in [0, 1] &\\Rightarrow x_{Y=0} = 1 - \\sqrt{1 - u}\n",
    "\\end{align}\n",
    "For Y = 1:\n",
    "\\begin{align}\n",
    "    F_{Y=1} &= \\int_{-\\inf}^{x} p_{Y=1}(x') \\text{d}x' = \\int_0^x 2x'\\text{d}x' = x'^2\\big\\vert_0^x\\\\\n",
    "    &= x^2 \\stackrel{!}{=} u, \\quad u\\text{ sampled from Unif(0, 1)}\\\\\n",
    "    &\\Rightarrow x = \\pm \\sqrt{u}\\\\\n",
    "    \\\\\n",
    "    X \\in [0, 1] &\\Rightarrow x_{Y=1} = \\sqrt{u}\n",
    "\\end{align}\n"
   ]
  },
  {
   "cell_type": "code",
   "execution_count": 2,
   "metadata": {
    "collapsed": true
   },
   "outputs": [],
   "source": [
    "def sample_of_x(y):\n",
    "    \"\"\"\n",
    "    This function applies the inverse transform sampling. The parameter Y can be 0 or 1 (see above).\n",
    "    \"\"\"\n",
    "    u = np.random.rand(*np.empty_like(y).shape)\n",
    "    x = np.empty_like(y, dtype=float)\n",
    "    \n",
    "    x[y == 0] = 1 - np.sqrt(1 - u[y == 0])\n",
    "    x[y == 1] = np.sqrt(u[y == 1])\n",
    "    \n",
    "    return x\n",
    "\n",
    "def create_data(N):\n",
    "    \"\"\"\n",
    "    This function creates a set of N labels and the corresponding features.\n",
    "    \"\"\"\n",
    "    # draw a uniform variable, set y to 0, if below 0.5, 1 if larger than 0.5.\n",
    "    # => p(y = 0) = p(y = 1) = 0.5\n",
    "    labels = np.array([0 if np.random.rand() < 0.5 else 1 for _ in range(N)])\n",
    "    features = sample_of_x(labels)\n",
    "    return features, labels"
   ]
  },
  {
   "cell_type": "code",
   "execution_count": 3,
   "metadata": {},
   "outputs": [
    {
     "data": {
      "image/png": "[encoded data removed]",
      "text/plain": [
       "<matplotlib.figure.Figure at 0x10f904048>"
      ]
     },
     "metadata": {},
     "output_type": "display_data"
    }
   ],
   "source": [
    "# Checking the distributions\n",
    "\n",
    "features, labels = create_data(100000)\n",
    "\n",
    "fig, ax = plt.subplots(1, 1)\n",
    "ax.hist(features[labels == 0], normed=1, bins=60, alpha=0.7, label=\"$Y = 0$\")\n",
    "ax.hist(features[labels == 1], normed=1, bins=60, alpha=0.7, label=\"$Y = 1$\")\n",
    "ax.set_xlabel('x')\n",
    "ax.set_ylabel('p(x)')\n",
    "ax.legend()\n",
    "plt.show()"
   ]
  },
  {
   "cell_type": "markdown",
   "metadata": {},
   "source": [
    "You can see in the plot, that for $Y=0$ the distribution follows $p(x) = 2x - 2$ and for $Y = 1$ the distribution follows $p(x) = 2x$."
   ]
  },
  {
   "cell_type": "markdown",
   "metadata": {},
   "source": [
    "# 1.2 Classification by threshold"
   ]
  },
  {
   "cell_type": "code",
   "execution_count": 4,
   "metadata": {
    "collapsed": true
   },
   "outputs": [],
   "source": [
    "def thresh_rule_a(x, t):\n",
    "    \"\"\"\n",
    "    This function returns the result (label) of rule A for a given t and x.\n",
    "    \"\"\"\n",
    "    f = np.empty_like(x, dtype=int)\n",
    "    f[x <= t] = 0\n",
    "    f[x > t] = 1\n",
    "    return f\n",
    "    \n",
    "def thresh_rule_b(x, t):\n",
    "    \"\"\"\n",
    "    This function returns the result (label) of rule B for a given t and x.\n",
    "    \"\"\"\n",
    "    f = np.empty_like(x, dtype=int)\n",
    "    f[x <= t] = 1\n",
    "    f[x > t] = 0\n",
    "    return f\n",
    "    \n",
    "def analytic_error_rule_a(t):\n",
    "    \"\"\"\n",
    "    This function returns the analytic error of rule A for a given t\n",
    "    \"\"\"\n",
    "    return 1/4 + (t - 1/2)**2\n",
    "\n",
    "def analytic_error_rule_b(t):\n",
    "    \"\"\"\n",
    "    This function returns the analytic error of rule B for a given t\n",
    "    \"\"\"\n",
    "    return 3/4 - (t - 1/2)**2\n",
    "\n",
    "\n",
    "def calculate_error(decisions, labels):\n",
    "    \"\"\"\n",
    "    This function calculates the error rate of the decisions with the real labels.\n",
    "    \"\"\"\n",
    "    diff = decisions - labels\n",
    "    return np.count_nonzero(diff)/labels.shape[0]"
   ]
  },
  {
   "cell_type": "markdown",
   "metadata": {},
   "source": [
    "## Get error for different thresholds"
   ]
  },
  {
   "cell_type": "code",
   "execution_count": 5,
   "metadata": {},
   "outputs": [
    {
     "name": "stdout",
     "output_type": "stream",
     "text": [
      "t = 0.2:\n",
      "\t p_err_a = 0.345 (analytic: 0.340)\n",
      "\t p_err_b = 0.655 (analytic: 0.660)\n",
      "t = 0.5:\n",
      "\t p_err_a = 0.255 (analytic: 0.250)\n",
      "\t p_err_b = 0.745 (analytic: 0.750)\n",
      "t = 0.6:\n",
      "\t p_err_a = 0.259 (analytic: 0.260)\n",
      "\t p_err_b = 0.741 (analytic: 0.740)\n"
     ]
    }
   ],
   "source": [
    "for t in [0.2, 0.5, 0.6]:\n",
    "    features, labels = create_data(10000)\n",
    "    \n",
    "    decision_a = thresh_rule_a(features, t)\n",
    "    decision_b = thresh_rule_b(features, t)\n",
    "    \n",
    "    print('t = {:.1f}:'.format(t))\n",
    "    print('\\t p_err_a = {:.3f} (analytic: {:.3f})'.format(calculate_error(decision_a, labels), analytic_error_rule_a(t)))\n",
    "    print('\\t p_err_b = {:.3f} (analytic: {:.3f})'.format(calculate_error(decision_b, labels), analytic_error_rule_b(t)))"
   ]
  },
  {
   "cell_type": "markdown",
   "metadata": {},
   "source": [
    "As you can see above, the best results are reached for $t = 0.5$ with decision rule A ($\\approx 0.25$). The observations fit very well with the analytic results."
   ]
  },
  {
   "cell_type": "markdown",
   "metadata": {},
   "source": [
    "Now we want to see, how test set size influence the mean value and standard deviation of $p_{\\text{error}}$. Therefore, we calculate $p_{\\text{error}}$ for rule A with $t = 0.5$ 10 times to estimate the mean and standard-deviation. This is repeated for different test set sizes."
   ]
  },
  {
   "cell_type": "code",
   "execution_count": 6,
   "metadata": {},
   "outputs": [],
   "source": [
    "means = []\n",
    "errors = []\n",
    "ms = [10, 100, 1000, 10000, 100000]\n",
    "for m in ms:\n",
    "    test_results = []\n",
    "    for _ in range(100):\n",
    "        features, labels = create_data(m)\n",
    "        decision_a = thresh_rule_a(features, 0.5)\n",
    "        test_results.append(calculate_error(decision_a, labels))\n",
    "    means.append(np.mean(test_results))\n",
    "    errors.append(np.std(test_results))"
   ]
  },
  {
   "cell_type": "code",
   "execution_count": 7,
   "metadata": {},
   "outputs": [
    {
     "data": {
      "image/png": "[encoded data removed]",
      "text/plain": [
       "<matplotlib.figure.Figure at 0x1101d5470>"
      ]
     },
     "metadata": {},
     "output_type": "display_data"
    }
   ],
   "source": [
    "fig, ax = plt.subplots(1, 1)\n",
    "ax.plot(ms, means, label = \"Mean\")\n",
    "ax.plot(ms, errors, label = \"Std\")\n",
    "\n",
    "ax.set_xlabel('Test set size')\n",
    "ax.legend()\n",
    "\n",
    "plt.show()"
   ]
  },
  {
   "cell_type": "markdown",
   "metadata": {},
   "source": [
    "As you can see in the plot, the mean value drops to $25\\%$ already for a small test set size.\n",
    "The standard deviation decreases towards $0$. The decay is quite rapid, for 20000 elements it is already negligable against the error for 10 elements ($\\approx 15\\%$)."
   ]
  },
  {
   "cell_type": "markdown",
   "metadata": {},
   "source": [
    "# 1.3 Nearest Neighbour classifier"
   ]
  },
  {
   "cell_type": "code",
   "execution_count": 8,
   "metadata": {
    "collapsed": true
   },
   "outputs": [],
   "source": [
    "class NearestNeighbour1D:\n",
    "    \n",
    "    def __init__(self):\n",
    "        self.training = {\"features\": [], \"labels\": []}\n",
    "    \n",
    "    def forget(self):\n",
    "        self.training = {\"features\": [], \"labels\": []}\n",
    "        \n",
    "    def train(self, features, labels):\n",
    "        self.training = {\"features\": features, \"labels\": labels}\n",
    "    \n",
    "    def classify(self, x):\n",
    "        # get index of nearest neighbour\n",
    "        ndx = np.argmin(np.abs(x - self.training[\"features\"]))\n",
    "        # return label of this guy\n",
    "        return self.training[\"labels\"][ndx]\n",
    "    \n",
    "    def test(self, features, labels):\n",
    "        errors = 0\n",
    "        for i in range(len(features)):\n",
    "            result = self.classify(features[i])\n",
    "            if result != labels[i]:\n",
    "                errors += 1\n",
    "        return errors/len(features)\n",
    "            "
   ]
  },
  {
   "cell_type": "code",
   "execution_count": 9,
   "metadata": {
    "collapsed": true
   },
   "outputs": [],
   "source": [
    "# create a classifier\n",
    "NN = NearestNeighbour1D()\n",
    "\n",
    "error_rates = []\n",
    "\n",
    "for _ in range(100):\n",
    "    # reset this guy\n",
    "    NN.forget()\n",
    "    # create training set and train classifier\n",
    "    training_features = [0, 0]\n",
    "    training_labels = [0, 0]\n",
    "    while training_labels[0] == training_labels[1]:\n",
    "        training_features, training_labels = create_data(2)\n",
    "        \n",
    "    NN.train(training_features, training_labels)\n",
    "    # create test set and test classifier\n",
    "    test_features, test_labels = create_data(20000) # 20000 from above\n",
    "    error_rates.append(NN.test(test_features, test_labels))\n",
    "    \n",
    "    "
   ]
  },
  {
   "cell_type": "code",
   "execution_count": 10,
   "metadata": {},
   "outputs": [
    {
     "name": "stdout",
     "output_type": "stream",
     "text": [
      "Average error rate: 0.339008, Standarddeviation: 0.159542\n"
     ]
    }
   ],
   "source": [
    "print('Average error rate: {:f}, Standarddeviation: {:f}'.format(np.mean(error_rates), np.std(error_rates)))"
   ]
  },
  {
   "cell_type": "markdown",
   "metadata": {},
   "source": [
    "In the range of the standard deviation, the average fits to the expected value of $35\\%$."
   ]
  }
 ],
 "metadata": {
  "kernelspec": {
   "display_name": "Python 3",
   "language": "python",
   "name": "python3"
  },
  "language_info": {
   "codemirror_mode": {
    "name": "ipython",
    "version": 3
   },
   "file_extension": ".py",
   "mimetype": "text/x-python",
   "name": "python",
   "nbconvert_exporter": "python",
   "pygments_lexer": "ipython3",
   "version": "3.6.1"
  }
 },
 "nbformat": 4,
 "nbformat_minor": 2
}
