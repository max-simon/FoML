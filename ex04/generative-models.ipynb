{
 "cells": [
  {
   "cell_type": "code",
   "execution_count": 5,
   "metadata": {
    "collapsed": true
   },
   "outputs": [],
   "source": [
    "import numpy as np\n",
    "import h5py\n",
    "import bisect\n",
    "from matplotlib import pyplot as plt"
   ]
  },
  {
   "cell_type": "code",
   "execution_count": 6,
   "metadata": {
    "collapsed": true
   },
   "outputs": [],
   "source": [
    "f = h5py.File('./digits.h5')\n",
    "images = f[\"images\"].value\n",
    "labels = f[\"labels\"].value\n",
    "f.close()\n",
    "\n",
    "images = images.reshape(len(images), 81)/255"
   ]
  },
  {
   "cell_type": "code",
   "execution_count": 7,
   "metadata": {},
   "outputs": [
    {
     "data": {
      "image/png": "[encoded data removed]",
      "text/plain": [
       "<matplotlib.figure.Figure at 0x10b443550>"
      ]
     },
     "metadata": {},
     "output_type": "display_data"
    }
   ],
   "source": [
    "fig, ax = plt.subplots(2, 4)\n",
    "for i in range(8):\n",
    "    ax[i // 4, i % 4].imshow(images[labels == 3][i].reshape(9, 9), cmap='Greys')\n",
    "plt.show()"
   ]
  },
  {
   "cell_type": "markdown",
   "metadata": {},
   "source": [
    "# Question 1: Sampling from Naive Bayes"
   ]
  },
  {
   "cell_type": "markdown",
   "metadata": {},
   "source": [
    "This is the working example provided by Prof. Köthe."
   ]
  },
  {
   "cell_type": "code",
   "execution_count": 8,
   "metadata": {
    "collapsed": true
   },
   "outputs": [],
   "source": [
    "class Histogram(object):\n",
    "    \"\"\"Histogram.\n",
    "    \"\"\"\n",
    "\n",
    "    def __init__(self, values):\n",
    "        \"\"\"Create a histogram for the given values using the Freedman-Diaconis rule for the bin width.\n",
    "\n",
    "        :param values: the values from which the histogram will be computed\n",
    "        \"\"\"\n",
    "        self.num_instances = len(values)\n",
    "\n",
    "        # Get the number of bins.\n",
    "        v_min, v_25, v_75, v_max = np.percentile(values, [0, 25, 75, 100])\n",
    "        # freedman_diaconis_width = 2 * (v_75 - v_25) / (len(values) ** (1/3.0))\n",
    "        freedman_diaconis_width = (v_max - v_min) / (len(values) ** (1/3.0))\n",
    "        num_bins = int(round((v_max - v_min) / freedman_diaconis_width))\n",
    "        assert num_bins > 0\n",
    "\n",
    "        # Fill the bins.\n",
    "        self.heights, self.bin_edges = np.histogram(values, bins=num_bins)\n",
    "\n",
    "    def find_bin(self, value):\n",
    "        \"\"\"Find the bin index of the given value.\n",
    "\n",
    "        :param value: some value\n",
    "        :return: bin index\n",
    "        \"\"\"\n",
    "        bin_index = bisect.bisect_left(self.bin_edges, value) - 1\n",
    "        bin_index = max(bin_index, 0)\n",
    "        bin_index = min(bin_index, len(self.heights)-1)\n",
    "        return bin_index\n",
    "\n",
    "    def bin_probability(self, bin_index):\n",
    "        \"\"\"Return the bin probability of the desired bin.\n",
    "\n",
    "        :param bin_index: index of the bin\n",
    "        :return: probability of the bin\n",
    "        \"\"\"\n",
    "        assert 0 <= bin_index <= len(self.heights) - 1\n",
    "        return self.heights[bin_index] / float(self.num_instances)\n",
    "class NaiveBayesClassifier(object):\n",
    "    \"\"\"Naive Bayes classifier.\n",
    "    \"\"\"\n",
    "\n",
    "    def __init__(self):\n",
    "        self.num_instances = None  # Number of instances that were used in training.\n",
    "        self.num_feats = None  # Number of features that were used in training.\n",
    "        self.classes = None  # The classes that were found in training.\n",
    "        self.histograms = {}  # Dict with histograms, key: class, value: list with histograms for all features.\n",
    "        self.priors = {}  # Dict with priors, key: class, value: prior of the class.\n",
    "\n",
    "    def train(self, train_x, train_y):\n",
    "        \"\"\"Train the classifier.\n",
    "\n",
    "        :param train_x: training x data\n",
    "        :param train_y: training y data\n",
    "        \"\"\"\n",
    "        assert train_x.shape[0] == len(train_y)\n",
    "        self.num_instances = train_x.shape[0]\n",
    "        self.num_feats = train_x.shape[1]\n",
    "        self.classes = np.unique(train_y)\n",
    "\n",
    "        # Create one histogram for each class and each feature.\n",
    "        self.histograms.clear()\n",
    "        self.priors.clear()\n",
    "        for cl in self.classes:\n",
    "            # Get the data of the current class.\n",
    "            train_x_cl = [train_x[k] for k in range(self.num_instances) if train_y[k] == cl]\n",
    "            num_instances_cl = len(train_x_cl)\n",
    "            self.priors[cl] = num_instances_cl / float(self.num_instances)\n",
    "\n",
    "            # Create one histogram per feature.\n",
    "            self.histograms[cl] = []\n",
    "            for i in range(self.num_feats):\n",
    "                histo_points = [train_x_cl[k][i] for k in range(num_instances_cl)]\n",
    "                self.histograms[cl].append(Histogram(histo_points))\n",
    "\n",
    "    def probabilities_single(self, test_x):\n",
    "        \"\"\"Compute the class probabilities of a single instance.\n",
    "\n",
    "        :param test_x: test x data of a single instance\n",
    "        :return: probabilities of test_x for each class\n",
    "        \"\"\"\n",
    "        assert len(test_x) == self.num_feats,\\\n",
    "            \"NaiveBayesClassifier.probabilities_single(): Number of features in test and training must be the same.\"\n",
    "\n",
    "        probs = {}\n",
    "        for cl in self.classes:\n",
    "            # Compute the likelihood.\n",
    "            prob = self.priors[cl]\n",
    "            for i in range(self.num_feats):\n",
    "                # Find height of histogram bin with class cl that contains test_x[i].\n",
    "                histo = self.histograms[cl][i]\n",
    "                bin_index = histo.find_bin(test_x[i])\n",
    "                prob *= histo.bin_probability(bin_index)\n",
    "            probs[cl] = prob\n",
    "        return probs\n",
    "\n",
    "    def predict_single(self, test_x):\n",
    "        \"\"\"Predict the class of a single instance.\n",
    "\n",
    "        :param test_x: test x data of a single instance\n",
    "        :return: predicted class of test_x\n",
    "        \"\"\"\n",
    "        probs = self.probabilities_single(test_x)\n",
    "        max_cl = max(probs.keys(), key=lambda cl: probs[cl])\n",
    "        return max_cl\n",
    "\n",
    "    def predict(self, test_x):\n",
    "        \"\"\"Predict the classes of the given sample.\n",
    "\n",
    "        :param test_x: test x data\n",
    "        :return: predicted classes of test_x\n",
    "        \"\"\"\n",
    "        assert test_x.shape[1] == self.num_feats,\\\n",
    "            \"NaiveBayesClassifier.predict(): Number of features in test and training must be the same.\"\n",
    "        return np.array([self.predict_single(test_x[i]) for i in range(test_x.shape[0])])"
   ]
  },
  {
   "cell_type": "code",
   "execution_count": 9,
   "metadata": {
    "collapsed": true
   },
   "outputs": [],
   "source": [
    "nb = NaiveBayesClassifier()\n",
    "nb.train(images[labels == 3], labels[labels == 3])"
   ]
  },
  {
   "cell_type": "markdown",
   "metadata": {},
   "source": [
    "## Sampling from histograms"
   ]
  },
  {
   "cell_type": "code",
   "execution_count": 10,
   "metadata": {
    "collapsed": true
   },
   "outputs": [],
   "source": [
    "def first_above_zero(z):\n",
    "    z[z < 0] = 2 # disable all values where q is smaller than t, but do not delete them\n",
    "    return np.argmin(z) # get the index\n",
    "    \n",
    "    \n",
    "def sample_naive_bayes(histograms):\n",
    "    q = [np.cumsum(histogram.heights)/np.sum(histogram.heights) for histogram in histograms] \n",
    "\n",
    "    # Print histogram and cumulative\n",
    "    #fig, ax = plt.subplots(2, 1)\n",
    "    #i = 27\n",
    "    #width = histograms[i].bin_edges[1] - histograms[i].bin_edges[0]\n",
    "    #ax[0].bar(histograms[i].bin_edges[:-1] + 0.5*width, histograms[i].heights, width)\n",
    "    #ax[1].bar(histograms[i].bin_edges[:-1] + 0.5*width, q[i], width)\n",
    "    #plt.show()\n",
    "    \n",
    "    t = np.random.rand(len(histograms))\n",
    "    l = [first_above_zero(cum - t[i]) for i, cum in enumerate(q)]\n",
    "    x = np.random.rand(len(histograms))\n",
    "    \n",
    "    return np.array([histogram.bin_edges[l[i]] + x[i]*(histogram.bin_edges[1] - histogram.bin_edges[1]) for i, histogram in enumerate(histograms)])"
   ]
  },
  {
   "cell_type": "code",
   "execution_count": 11,
   "metadata": {},
   "outputs": [
    {
     "data": {
      "image/png": "[encoded data removed]",
      "text/plain": [
       "<matplotlib.figure.Figure at 0x11079fef0>"
      ]
     },
     "metadata": {},
     "output_type": "display_data"
    }
   ],
   "source": [
    "fig, ax = plt.subplots(2, 4)\n",
    "for i in range(8):\n",
    "    ax[i // 4, i % 4].imshow(sample_naive_bayes(nb.histograms[3]).reshape(9, 9), cmap='Greys')\n",
    "plt.show()"
   ]
  },
  {
   "cell_type": "markdown",
   "metadata": {},
   "source": [
    "# Question 2: Density trees"
   ]
  },
  {
   "cell_type": "markdown",
   "metadata": {},
   "source": [
    "n is the number of cuts we make, i is the number of the perfect split.\n",
    "Maximizing score $s$\n",
    "\\begin{align}\n",
    "s &= -p_l^2 * V_l + p_\\lambda^2*V_\\lambda + p_\\rho^2*V_\\rho\\\\\n",
    "&= -\\frac{P_l^2}{V_l} + \\frac{P_\\lambda^2}{V_\\lambda} + \\frac{P_\\rho^2}{V_\\rho}\\\\\n",
    "&= -\\frac{P_l^2}{V_l} + \\frac{P_\\lambda^2}{i*V_l/n} + \\frac{P_\\rho^2}{(n-i)*V_l/n}\\\\\n",
    "&= -\\frac{P_l^2}{V_l} + \\frac{n}{V_l}*\\left(\\frac{P_\\lambda^2}{i} + \\frac{P_\\rho^2}{n-i}\\right)\n",
    "\\end{align}\n",
    "Here we used, that \n",
    "\\begin{align}\n",
    "V_\\rho = d_{\\rho,1}*...*d_{\\rho,D} = \\frac{i}{n}*d_{\\lambda,1}*...*d_{\\lambda,D} = \\frac{i}{n}*V_\\lambda\n",
    "\\end{align}"
   ]
  },
  {
   "cell_type": "code",
   "execution_count": 87,
   "metadata": {
    "collapsed": true
   },
   "outputs": [],
   "source": [
    "def volume(a):\n",
    "    \"\"\"\n",
    "    Calculates the n-dimensional volume.\n",
    "    \"\"\"\n",
    "    return np.prod(a[:,1])\n",
    "\n",
    "class Node:\n",
    "    def __init__(self, data, bbox, vol, tot_n):\n",
    "        self.left = None\n",
    "        self.right = None\n",
    "        \n",
    "        self.data = data # the actual data\n",
    "        self.bbox = bbox # boundary box of the data, 2 dimensions, first is the start, second is the width\n",
    "        \n",
    "        self.vol = vol # the calculated volume\n",
    "        self.prob = len(data)/tot_n  # probability of the node\n",
    "        self.tot_n = tot_n # yeah it is crep to put it in every node, but it is late...\n",
    "        \n",
    "        self.best_split = None\n",
    "    \n",
    "    @staticmethod\n",
    "    def score_min_error(n_l, n_r, tot_n, vol, i, n):\n",
    "        # NOTE: maximizing this could be done with much less calculations\n",
    "        return -((((n_l+n_r)/tot_n)**2)/vol) + n*((((n_l/tot_n)**2)/i) + (((n_r/tot_n)**2)/(n-i)))/vol\n",
    "    \n",
    "    @staticmethod\n",
    "    def score_max_uniform(n_l, n_r, tot_n, vol, i, n):\n",
    "        vol_left = vol*i/n  \n",
    "        return ((n_l*vol - (n_r + n_l)*vol_left)**2)/(vol_left*(vol - vol_left))\n",
    "    \n",
    "    def get_score(self, score_func, n = 10):\n",
    "        \n",
    "        # if has been already calculated\n",
    "        if self.best_split != None:\n",
    "            return self.best_split[\"score\"]\n",
    "        \n",
    "        # init\n",
    "        self.best_split = {\n",
    "            \"score\": 0,\n",
    "            \"left\": None,\n",
    "            \"right\": None,\n",
    "            \"dimension\": None,\n",
    "            \"ratio\": None\n",
    "        }\n",
    "\n",
    "        \n",
    "        for d in range(self.data[0].shape[0]): # loop over all dimensions\n",
    "            for i in range(1, n): # loop over the number of cuts\n",
    "                \n",
    "                # split the data into left and right box\n",
    "                data_left = self.data[self.data[:,d] < self.bbox[d,0] + i*self.bbox[d,1]/n]\n",
    "                data_right = self.data[self.data[:,d] >= self.bbox[d,0] + i*self.bbox[d,1]/n]\n",
    "                \n",
    "                # do not allow split which would just shrink the node\n",
    "                # TODO: right?\n",
    "                if len(data_left) == 0 or len(data_right) == 0:\n",
    "                    continue\n",
    "                \n",
    "                # assert len(data_left) + len(data_right) == len(self.data)\n",
    "                \n",
    "                # call the given scoring function\n",
    "                score = score_func(len(data_left), len(data_right), self.tot_n, self.vol, i, n)\n",
    "                \n",
    "                # if found a new highest score keep the current values\n",
    "                if score > self.best_split[\"score\"]:\n",
    "                    self.best_split[\"score\"] = score\n",
    "                    self.best_split[\"left\"] = data_left\n",
    "                    self.best_split[\"right\"] = data_right\n",
    "                    self.best_split[\"dimension\"] = d\n",
    "                    self.best_split[\"ratio\"] = i/n\n",
    "\n",
    "        return self.best_split[\"score\"]\n",
    "    \n",
    "    def split(self):\n",
    "        \n",
    "        # assert len(self.data) != 0\n",
    "        \n",
    "        bbox_left = np.copy(self.bbox)\n",
    "        bbox_left[self.best_split[\"dimension\"], 1] *= self.best_split[\"ratio\"] # shrink the width for the left box\n",
    "        self.left = Node(self.best_split[\"left\"], bbox_left, self.vol*self.best_split[\"ratio\"], self.tot_n)\n",
    "        \n",
    "        bbox_right = np.copy(self.bbox)\n",
    "        bbox_right[self.best_split[\"dimension\"], 0] += bbox_right[self.best_split[\"dimension\"], 1]*self.best_split[\"ratio\"] # move beginning of right box\n",
    "        bbox_right[self.best_split[\"dimension\"], 1] *= (1 - self.best_split[\"ratio\"]) # shrink width of right box\n",
    "        self.right = Node(self.best_split[\"right\"], bbox_right, self.vol*(1 - self.best_split[\"ratio\"]), self.tot_n)\n",
    "        \n",
    "        #### Tests on bounding boxes\n",
    "        # Feel free to test but should pass :D\n",
    "        # assert (volume(bbox_left) - self.left.vol) < 1e-6\n",
    "        # assert (volume(bbox_right) - self.right.vol) < 1e-6\n",
    "        # for i in range(81):\n",
    "        #    if i == self.best_split[\"dimension\"]:\n",
    "        #        continue\n",
    "        #    assert self.left.bbox[i, 0] == self.right.bbox[i, 0]\n",
    "        #    assert self.left.bbox[i, 1] == self.right.bbox[i, 1]\n",
    "        # assert self.right.bbox[self.best_split[\"dimension\"], 0] == self.left.bbox[self.best_split[\"dimension\"], 0] + self.left.bbox[self.best_split[\"dimension\"], 1]\n",
    "\n",
    "    @staticmethod\n",
    "    def get_leaf_of_instance(node, instance):\n",
    "        current = node\n",
    "        while current.left != None: # avoid recursion\n",
    "            if instance[current.best_split[\"dimension\"]] > current.right.bbox[current.best_split[\"dimension\"], 0]:\n",
    "                current = current.right\n",
    "            else:\n",
    "                current = current.left\n",
    "        return current"
   ]
  },
  {
   "cell_type": "markdown",
   "metadata": {},
   "source": [
    "## Training"
   ]
  },
  {
   "cell_type": "code",
   "execution_count": 90,
   "metadata": {
    "collapsed": true
   },
   "outputs": [],
   "source": [
    "# DEBUG\n",
    "def get_probability(node):\n",
    "    \"\"\"\n",
    "    Recursively check the probability of the node and compare to precomputed one.\n",
    "    \"\"\"\n",
    "    if node.left == None:\n",
    "        return node.prob\n",
    "    else:\n",
    "        a = get_probability(node.left)\n",
    "        b = get_probability(node.right)\n",
    "        if np.abs(a + b - node.prob) > 1e-6:\n",
    "            print(a, b, node.prob)\n",
    "            raise ValueError('FATAL ERROR: probabilities do not match')\n",
    "        return a + b\n",
    "\n",
    "# DEBUG\n",
    "def check_instances(node):\n",
    "    \"\"\"\n",
    "    Check if each datapoint is inside the given boundary box\n",
    "    \"\"\"\n",
    "    for i in node.data:\n",
    "        for j in range(node.data[0].shape[0]):\n",
    "            # should both be 0 for both\n",
    "            if node.bbox[j, 0] - i[j] > 1e-6 or i[j] - node.bbox[j, 0] - node.bbox[j, 1] > 1e-6:\n",
    "                print(i[j], node.bbox[j])\n",
    "                raise ValueError('FATAL ERROR: instances outside of bounding box')\n",
    "\n",
    "\n",
    "def fit_density_tree1(features, tau, score_func):\n",
    "    \n",
    "    bincount = int(tau*len(features)**(1/3))\n",
    "    print('Use {:d} bins'.format(bincount))\n",
    "    \n",
    "    root_bounding = np.empty((features[0].shape[0], 2)) # init boundary box\n",
    "    \n",
    "    for i in range(features[0].shape[0]): # for each feature...\n",
    "        root_bounding[i, 0] = np.min(features[:,i]) # ... start box at smallest value ... \n",
    "        root_bounding[i, 1] = np.max(features[:,i]) - np.min(features[:,i]) # ... and set a width of max-min\n",
    "    \n",
    "    # init root node\n",
    "    root = Node(features, root_bounding, volume(root_bounding), len(features))\n",
    "    \n",
    "    # init leafs array\n",
    "    leafs = [root]\n",
    "    \n",
    "    while len(leafs) < bincount:\n",
    "        if int(bincount/100) == 0 or len(leafs) % int(bincount/100):\n",
    "            print('Leafs: {:d}, {:.0f}%'.format(len(leafs), 100*len(leafs)/bincount), end='\\r')\n",
    "        \n",
    "        # get the scores for each leaf\n",
    "        scores = np.array([node.get_score(score_func) for node in leafs])\n",
    "\n",
    "        # get the leaf with the highest score\n",
    "        leaf_index = np.argmax(scores)\n",
    "        \n",
    "        # if the highest score is below 0: abbort\n",
    "        if scores[leaf_index] <= 0:\n",
    "            print('Highest score below 0, do not split any further.')\n",
    "            break\n",
    "        \n",
    "        # split the leaf with highest score\n",
    "        leafs[leaf_index].split()\n",
    "        \n",
    "        # append its children to the leaf\n",
    "        leafs.append(leafs[leaf_index].left)\n",
    "        leafs.append(leafs[leaf_index].right)\n",
    "\n",
    "        # remove from leafs\n",
    "        del leafs[leaf_index]\n",
    "    \n",
    "    print('Finished.', ' '*30)\n",
    "    #print('Check for errors...')\n",
    "    # DEBUG\n",
    "    #for i in leafs:\n",
    "    #    check_instances(i)\n",
    "    #print('All instances are inside their boundaries in the leaf nodes')\n",
    "    \n",
    "    # DEBUG\n",
    "    #print('Root node has probability of {:f}'.format(get_probability(root)))\n",
    "    return root"
   ]
  },
  {
   "cell_type": "code",
   "execution_count": 91,
   "metadata": {},
   "outputs": [
    {
     "name": "stdout",
     "output_type": "stream",
     "text": [
      "Use 230 bins\n",
      "Finished.                               \n"
     ]
    }
   ],
   "source": [
    "tree_min_error = fit_density_tree1(images[labels == 3], 10, Node.score_min_error)"
   ]
  },
  {
   "cell_type": "code",
   "execution_count": 92,
   "metadata": {},
   "outputs": [
    {
     "name": "stdout",
     "output_type": "stream",
     "text": [
      "Use 230 bins\n",
      "Leafs: 151, 66%\r"
     ]
    },
    {
     "name": "stderr",
     "output_type": "stream",
     "text": [
      "/Users/maxsimon/anaconda/lib/python3.6/site-packages/ipykernel_launcher.py:29: RuntimeWarning: divide by zero encountered in double_scalars\n"
     ]
    },
    {
     "name": "stdout",
     "output_type": "stream",
     "text": [
      "Leafs: 153, 67%\r"
     ]
    },
    {
     "name": "stderr",
     "output_type": "stream",
     "text": [
      "/Users/maxsimon/anaconda/lib/python3.6/site-packages/ipykernel_launcher.py:29: RuntimeWarning: invalid value encountered in double_scalars\n"
     ]
    },
    {
     "name": "stdout",
     "output_type": "stream",
     "text": [
      "Finished.9, 100%                               \n"
     ]
    }
   ],
   "source": [
    "tree_max_unif = fit_density_tree1(images[labels == 3], 10, Node.score_max_uniform)"
   ]
  },
  {
   "cell_type": "markdown",
   "metadata": {},
   "source": [
    "## Sampling"
   ]
  },
  {
   "cell_type": "code",
   "execution_count": 105,
   "metadata": {
    "collapsed": true
   },
   "outputs": [],
   "source": [
    "def sample_density_tree(tree):\n",
    "    t = np.random.rand()\n",
    "    current = tree\n",
    "    while current.left != None:\n",
    "        if t <= current.prob:\n",
    "            current = current.left     \n",
    "        else:\n",
    "            t -= current.prob\n",
    "            current = current.right\n",
    "    # current is now a leaf\n",
    "    x = np.random.rand(current.data[0].shape[0]) # random numbers for inside the bins\n",
    "    return current.bbox[:,0] + x*current.bbox[:,1]"
   ]
  },
  {
   "cell_type": "markdown",
   "metadata": {},
   "source": [
    "### Minimizing error"
   ]
  },
  {
   "cell_type": "code",
   "execution_count": 106,
   "metadata": {},
   "outputs": [
    {
     "data": {
      "image/png": "[encoded data removed]",
      "text/plain": [
       "<matplotlib.figure.Figure at 0x10c399710>"
      ]
     },
     "metadata": {},
     "output_type": "display_data"
    }
   ],
   "source": [
    "fig, ax = plt.subplots(2, 4)\n",
    "for i in range(8):\n",
    "    ax[i // 4, i % 4].imshow(sample_density_tree(tree_min_error).reshape(9, 9), cmap='Greys')\n",
    "plt.show()"
   ]
  },
  {
   "cell_type": "markdown",
   "metadata": {},
   "source": [
    "### Maximizing uniformity"
   ]
  },
  {
   "cell_type": "code",
   "execution_count": 107,
   "metadata": {},
   "outputs": [
    {
     "data": {
      "image/png": "[encoded data removed]",
      "text/plain": [
       "<matplotlib.figure.Figure at 0x10be1b7b8>"
      ]
     },
     "metadata": {},
     "output_type": "display_data"
    }
   ],
   "source": [
    "fig, ax = plt.subplots(2, 4)\n",
    "for i in range(8):\n",
    "    ax[i // 4, i % 4].imshow(sample_density_tree(tree_max_unif).reshape(9, 9), cmap='Greys')\n",
    "plt.show()"
   ]
  },
  {
   "cell_type": "markdown",
   "metadata": {},
   "source": [
    "## Classification"
   ]
  },
  {
   "cell_type": "code",
   "execution_count": 97,
   "metadata": {
    "collapsed": true
   },
   "outputs": [],
   "source": [
    "def predict_density_trees(test_features, tree_for_3, tree_for_9):\n",
    "    predicted_labels = np.empty(len(test_features))\n",
    "    for i, feature in enumerate(test_features):\n",
    "        if Node.get_leaf_of_instance(tree_for_3, feature).prob < Node.get_leaf_of_instance(tree_for_9, feature).prob:\n",
    "            predicted_labels[i] = 9\n",
    "        else:\n",
    "            predicted_labels[i] = 3\n",
    "    return predicted_labels"
   ]
  },
  {
   "cell_type": "code",
   "execution_count": 98,
   "metadata": {},
   "outputs": [
    {
     "name": "stdout",
     "output_type": "stream",
     "text": [
      "Use 228 bins\n",
      "Finished.                               \n"
     ]
    }
   ],
   "source": [
    "#tree_3 = fit_density_tree1(images[labels == 3], 10, Node.score_min_error) already calculated\n",
    "tree_9 = fit_density_tree1(images[labels == 9], 10, Node.score_min_error)"
   ]
  },
  {
   "cell_type": "code",
   "execution_count": 99,
   "metadata": {
    "collapsed": true
   },
   "outputs": [],
   "source": [
    "def get_confusion_matrix(predicted, truth, possible_labels=[3, 9]):\n",
    "    conf = np.empty((len(possible_labels), len(possible_labels)))\n",
    "    for i, k in enumerate(possible_labels):\n",
    "        items, counts = np.unique(predicted[truth == k], return_counts=True)\n",
    "        count_array = np.array([counts[np.where(items == tested_k)[0][0]] for tested_k in possible_labels])\n",
    "        conf[i] = count_array\n",
    "    return conf"
   ]
  },
  {
   "cell_type": "code",
   "execution_count": 100,
   "metadata": {
    "collapsed": true
   },
   "outputs": [],
   "source": [
    "f = h5py.File('./digits_test.h5')\n",
    "images_test = f[\"images\"].value\n",
    "labels_test = f[\"labels\"].value\n",
    "f.close()\n",
    "images_test = images_test.reshape(len(images_test), 81)/255"
   ]
  },
  {
   "cell_type": "code",
   "execution_count": 101,
   "metadata": {
    "collapsed": true
   },
   "outputs": [],
   "source": [
    "mask = np.logical_or(labels_test == 3, labels_test == 9)\n",
    "prediction = predict_density_trees(images_test[mask], tree_min_error, tree_9)\n",
    "error_rate = np.count_nonzero(prediction - labels_test[mask])/prediction.shape[0]\n",
    "conf_ma = get_confusion_matrix(prediction, labels_test[mask])"
   ]
  },
  {
   "cell_type": "code",
   "execution_count": 108,
   "metadata": {},
   "outputs": [
    {
     "name": "stdout",
     "output_type": "stream",
     "text": [
      "Error rate: 0.39222\n"
     ]
    },
    {
     "data": {
      "image/png": "[encoded data removed]",
      "text/plain": [
       "<matplotlib.figure.Figure at 0x1100e7978>"
      ]
     },
     "metadata": {},
     "output_type": "display_data"
    }
   ],
   "source": [
    "print('Error rate: {:.5f}'.format(error_rate))\n",
    "fig, ax = plt.subplots(1, 1)\n",
    "cax = ax.imshow(conf_ma)\n",
    "plt.colorbar(cax)\n",
    "plt.show()"
   ]
  },
  {
   "cell_type": "markdown",
   "metadata": {},
   "source": [
    "Yep, the 3s look not like a typical 3 and the error rate is enormous.\n",
    "The problem is, that we get very large bins"
   ]
  },
  {
   "cell_type": "markdown",
   "metadata": {
    "collapsed": true
   },
   "source": [
    "# Question 3: Sampling with QDA"
   ]
  },
  {
   "cell_type": "code",
   "execution_count": 109,
   "metadata": {
    "collapsed": true
   },
   "outputs": [],
   "source": [
    "def get_class(x, y, desired):\n",
    "    \"\"\"\n",
    "    Returns a subarray of x where y = desired\n",
    "    \"\"\"\n",
    "    return x[y == desired]\n",
    "def fit_qda(training_features, training_labels, possible_features=[3]):\n",
    "    D = training_features.shape[1] # dimension of features\n",
    "    F = 1\n",
    "    \n",
    "    # create an array of testsetdata\n",
    "    ts = [get_class(training_features, training_labels, feature) for feature in possible_features]\n",
    "    # caculate the total amount of testdata (including all possible features)\n",
    "    N_tot = sum([tsf.shape[0] for tsf in ts])\n",
    "\n",
    "    # mu has the shape FxD\n",
    "    mu = np.empty((F, D), dtype=float)\n",
    "    # cov should have the shape FxDxD\n",
    "    cov = np.empty((F, D, D))\n",
    "    # the priors are scalars and have therefore the shape F\n",
    "    p = np.empty(F)\n",
    "    \n",
    "    for i in range(F):\n",
    "        N = ts[i].shape[0] # number of training instances for the feature possible_feature[i]\n",
    "        # calculating mu\n",
    "        mu[i] = np.mean(ts[i], axis=0)\n",
    "    \n",
    "        # calculating the covariance matrix\n",
    "        ts_centralised = ts[i] - mu[i]\n",
    "        # some numpy magic\n",
    "        cov[i] = np.add.reduce(ts_centralised[:,:,np.newaxis] * ts_centralised[:,np.newaxis,:])/N\n",
    "    \n",
    "        # calculating the priors\n",
    "        p[i] = N/N_tot\n",
    "        \n",
    "    # done\n",
    "    return mu, cov, p\n"
   ]
  },
  {
   "cell_type": "code",
   "execution_count": 110,
   "metadata": {
    "collapsed": true
   },
   "outputs": [],
   "source": [
    "mu, cov, p = fit_qda(images[labels == 3], labels[labels == 3])"
   ]
  },
  {
   "cell_type": "code",
   "execution_count": 111,
   "metadata": {
    "collapsed": true
   },
   "outputs": [],
   "source": [
    "def sample_qda(mu, cov):\n",
    "    return np.random.multivariate_normal(mu, cov)"
   ]
  },
  {
   "cell_type": "code",
   "execution_count": 112,
   "metadata": {},
   "outputs": [
    {
     "data": {
      "image/png": "[encoded data removed]",
      "text/plain": [
       "<matplotlib.figure.Figure at 0x10bf8b630>"
      ]
     },
     "metadata": {},
     "output_type": "display_data"
    }
   ],
   "source": [
    "fig, ax = plt.subplots(2, 4)\n",
    "for i in range(8):\n",
    "    ax[i // 4, i % 4].imshow(sample_qda(mu[0], cov[0]).reshape(9, 9), cmap='Greys')\n",
    "plt.show()"
   ]
  },
  {
   "cell_type": "code",
   "execution_count": null,
   "metadata": {
    "collapsed": true
   },
   "outputs": [],
   "source": []
  }
 ],
 "metadata": {
  "kernelspec": {
   "display_name": "Python 3",
   "language": "python",
   "name": "python3"
  },
  "language_info": {
   "codemirror_mode": {
    "name": "ipython",
    "version": 3
   },
   "file_extension": ".py",
   "mimetype": "text/x-python",
   "name": "python",
   "nbconvert_exporter": "python",
   "pygments_lexer": "ipython3",
   "version": "3.6.1"
  }
 },
 "nbformat": 4,
 "nbformat_minor": 2
}
