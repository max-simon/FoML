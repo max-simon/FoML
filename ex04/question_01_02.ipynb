{
 "cells": [
  {
   "cell_type": "code",
   "execution_count": 4,
   "metadata": {
    "collapsed": true
   },
   "outputs": [],
   "source": [
    "import numpy as np\n",
    "import h5py\n",
    "import bisect\n",
    "from matplotlib import pyplot as plt"
   ]
  },
  {
   "cell_type": "code",
   "execution_count": 5,
   "metadata": {},
   "outputs": [],
   "source": [
    "f = h5py.File('./digits.h5')\n",
    "images = f[\"images\"].value\n",
    "labels = f[\"labels\"].value\n",
    "f.close()\n",
    "\n",
    "images = images.reshape(len(images), 81)/255"
   ]
  },
  {
   "cell_type": "code",
   "execution_count": 6,
   "metadata": {},
   "outputs": [
    {
     "data": {
      "image/png": "[encoded data removed]",
      "text/plain": [
       "<matplotlib.figure.Figure at 0x10b486518>"
      ]
     },
     "metadata": {},
     "output_type": "display_data"
    }
   ],
   "source": [
    "fig, ax = plt.subplots(2, 4)\n",
    "for i in range(8):\n",
    "    ax[i // 4, i % 4].imshow(images[labels == 3][i].reshape(9, 9), cmap='Greys')\n",
    "plt.show()"
   ]
  },
  {
   "cell_type": "markdown",
   "metadata": {},
   "source": [
    "# Question 1: Sampling from Naive Bayes"
   ]
  },
  {
   "cell_type": "markdown",
   "metadata": {},
   "source": [
    "This is the working example provided by Prof. Köthe."
   ]
  },
  {
   "cell_type": "code",
   "execution_count": 2,
   "metadata": {
    "collapsed": true
   },
   "outputs": [],
   "source": [
    "class Histogram(object):\n",
    "    \"\"\"Histogram.\n",
    "    \"\"\"\n",
    "\n",
    "    def __init__(self, values):\n",
    "        \"\"\"Create a histogram for the given values using the Freedman-Diaconis rule for the bin width.\n",
    "\n",
    "        :param values: the values from which the histogram will be computed\n",
    "        \"\"\"\n",
    "        self.num_instances = len(values)\n",
    "\n",
    "        # Get the number of bins.\n",
    "        v_min, v_25, v_75, v_max = np.percentile(values, [0, 25, 75, 100])\n",
    "        # freedman_diaconis_width = 2 * (v_75 - v_25) / (len(values) ** (1/3.0))\n",
    "        freedman_diaconis_width = (v_max - v_min) / (len(values) ** (1/3.0))\n",
    "        num_bins = int(round((v_max - v_min) / freedman_diaconis_width))\n",
    "        assert num_bins > 0\n",
    "\n",
    "        # Fill the bins.\n",
    "        self.heights, self.bin_edges = np.histogram(values, bins=num_bins)\n",
    "\n",
    "    def find_bin(self, value):\n",
    "        \"\"\"Find the bin index of the given value.\n",
    "\n",
    "        :param value: some value\n",
    "        :return: bin index\n",
    "        \"\"\"\n",
    "        bin_index = bisect.bisect_left(self.bin_edges, value) - 1\n",
    "        bin_index = max(bin_index, 0)\n",
    "        bin_index = min(bin_index, len(self.heights)-1)\n",
    "        return bin_index\n",
    "\n",
    "    def bin_probability(self, bin_index):\n",
    "        \"\"\"Return the bin probability of the desired bin.\n",
    "\n",
    "        :param bin_index: index of the bin\n",
    "        :return: probability of the bin\n",
    "        \"\"\"\n",
    "        assert 0 <= bin_index <= len(self.heights) - 1\n",
    "        return self.heights[bin_index] / float(self.num_instances)\n",
    "class NaiveBayesClassifier(object):\n",
    "    \"\"\"Naive Bayes classifier.\n",
    "    \"\"\"\n",
    "\n",
    "    def __init__(self):\n",
    "        self.num_instances = None  # Number of instances that were used in training.\n",
    "        self.num_feats = None  # Number of features that were used in training.\n",
    "        self.classes = None  # The classes that were found in training.\n",
    "        self.histograms = {}  # Dict with histograms, key: class, value: list with histograms for all features.\n",
    "        self.priors = {}  # Dict with priors, key: class, value: prior of the class.\n",
    "\n",
    "    def train(self, train_x, train_y):\n",
    "        \"\"\"Train the classifier.\n",
    "\n",
    "        :param train_x: training x data\n",
    "        :param train_y: training y data\n",
    "        \"\"\"\n",
    "        assert train_x.shape[0] == len(train_y)\n",
    "        self.num_instances = train_x.shape[0]\n",
    "        self.num_feats = train_x.shape[1]\n",
    "        self.classes = np.unique(train_y)\n",
    "\n",
    "        # Create one histogram for each class and each feature.\n",
    "        self.histograms.clear()\n",
    "        self.priors.clear()\n",
    "        for cl in self.classes:\n",
    "            # Get the data of the current class.\n",
    "            train_x_cl = [train_x[k] for k in range(self.num_instances) if train_y[k] == cl]\n",
    "            num_instances_cl = len(train_x_cl)\n",
    "            self.priors[cl] = num_instances_cl / float(self.num_instances)\n",
    "\n",
    "            # Create one histogram per feature.\n",
    "            self.histograms[cl] = []\n",
    "            for i in range(self.num_feats):\n",
    "                histo_points = [train_x_cl[k][i] for k in range(num_instances_cl)]\n",
    "                self.histograms[cl].append(Histogram(histo_points))\n",
    "\n",
    "    def probabilities_single(self, test_x):\n",
    "        \"\"\"Compute the class probabilities of a single instance.\n",
    "\n",
    "        :param test_x: test x data of a single instance\n",
    "        :return: probabilities of test_x for each class\n",
    "        \"\"\"\n",
    "        assert len(test_x) == self.num_feats,\\\n",
    "            \"NaiveBayesClassifier.probabilities_single(): Number of features in test and training must be the same.\"\n",
    "\n",
    "        probs = {}\n",
    "        for cl in self.classes:\n",
    "            # Compute the likelihood.\n",
    "            prob = self.priors[cl]\n",
    "            for i in range(self.num_feats):\n",
    "                # Find height of histogram bin with class cl that contains test_x[i].\n",
    "                histo = self.histograms[cl][i]\n",
    "                bin_index = histo.find_bin(test_x[i])\n",
    "                prob *= histo.bin_probability(bin_index)\n",
    "            probs[cl] = prob\n",
    "        return probs\n",
    "\n",
    "    def predict_single(self, test_x):\n",
    "        \"\"\"Predict the class of a single instance.\n",
    "\n",
    "        :param test_x: test x data of a single instance\n",
    "        :return: predicted class of test_x\n",
    "        \"\"\"\n",
    "        probs = self.probabilities_single(test_x)\n",
    "        max_cl = max(probs.keys(), key=lambda cl: probs[cl])\n",
    "        return max_cl\n",
    "\n",
    "    def predict(self, test_x):\n",
    "        \"\"\"Predict the classes of the given sample.\n",
    "\n",
    "        :param test_x: test x data\n",
    "        :return: predicted classes of test_x\n",
    "        \"\"\"\n",
    "        assert test_x.shape[1] == self.num_feats,\\\n",
    "            \"NaiveBayesClassifier.predict(): Number of features in test and training must be the same.\"\n",
    "        return np.array([self.predict_single(test_x[i]) for i in range(test_x.shape[0])])"
   ]
  },
  {
   "cell_type": "code",
   "execution_count": 7,
   "metadata": {
    "collapsed": true
   },
   "outputs": [],
   "source": [
    "nb = NaiveBayesClassifier()\n",
    "nb.train(images[labels == 3], labels[labels == 3])"
   ]
  },
  {
   "cell_type": "markdown",
   "metadata": {},
   "source": [
    "## Sampling from histograms"
   ]
  },
  {
   "cell_type": "code",
   "execution_count": 39,
   "metadata": {},
   "outputs": [],
   "source": [
    "def first_above_zero(z):\n",
    "    z[z < 0] = 2 # disable all values where q is smaller than t, but do not delete them\n",
    "    return np.argmin(z) # get the index\n",
    "    \n",
    "    \n",
    "def sample_naive_bayes(histograms):\n",
    "    q = [np.cumsum(histogram.heights)/np.sum(histogram.heights) for histogram in histograms] \n",
    "\n",
    "    # Print histogram and cumulative\n",
    "    #fig, ax = plt.subplots(2, 1)\n",
    "    #i = 27\n",
    "    #width = histograms[i].bin_edges[1] - histograms[i].bin_edges[0]\n",
    "    #ax[0].bar(histograms[i].bin_edges[:-1] + 0.5*width, histograms[i].heights, width)\n",
    "    #ax[1].bar(histograms[i].bin_edges[:-1] + 0.5*width, q[i], width)\n",
    "    #plt.show()\n",
    "    \n",
    "    t = np.random.rand(len(histograms))\n",
    "    l = [first_above_zero(cum - t[i]) for i, cum in enumerate(q)]\n",
    "    x = np.random.rand(len(histograms))\n",
    "    \n",
    "    return np.array([histogram.bin_edges[l[i]] + x[i]*(histogram.bin_edges[1] - histogram.bin_edges[1]) for i, histogram in enumerate(histograms)])"
   ]
  },
  {
   "cell_type": "code",
   "execution_count": 41,
   "metadata": {},
   "outputs": [
    {
     "data": {
      "image/png": "[encoded data removed]",
      "text/plain": [
       "<matplotlib.figure.Figure at 0x10df0ae10>"
      ]
     },
     "metadata": {},
     "output_type": "display_data"
    }
   ],
   "source": [
    "fig, ax = plt.subplots(2, 4)\n",
    "for i in range(8):\n",
    "    ax[i // 4, i % 4].imshow(sample_naive_bayes(nb.histograms[3]).reshape(9, 9), cmap='Greys')\n",
    "plt.show()"
   ]
  },
  {
   "cell_type": "markdown",
   "metadata": {},
   "source": [
    "# Question 2: Density trees"
   ]
  },
  {
   "cell_type": "markdown",
   "metadata": {},
   "source": [
    "Maximizing score $s$\n",
    "\\begin{align}\n",
    "s &= -p_l^2 * V_l + p_\\lambda^2*V_\\lambda + p_\\rho^2*V_\\rho\\\\\n",
    "&= -P_l^2/V_l + P_\\lambda^2/V_\\lambda + P_\\rho^2/V_\\rho\\\\\n",
    "&= -P_l^2/V_l + P_\\lambda^2/(i*V_l/n) + P_\\rho^2/((n-i)*V_l/n)\\\\\n",
    "&= -P_l^2/V_l + n*(P_\\lambda^2/i + P_\\rho^2/(n-i))/V_l\n",
    "\\end{align}"
   ]
  },
  {
   "cell_type": "code",
   "execution_count": 80,
   "metadata": {
    "collapsed": true
   },
   "outputs": [],
   "source": [
    "def volume(a):\n",
    "    \"\"\"\n",
    "    Calculates the n-dimensional volume.\n",
    "    \"\"\"\n",
    "    return np.prod(a[:,1])\n",
    "\n",
    "class Node:\n",
    "    def __init__(self, data, bbox, vol, tot_n):\n",
    "        self.left = None\n",
    "        self.right = None\n",
    "        \n",
    "        self.data = data # the actual data\n",
    "        self.bbox = bbox # boundary box of the data\n",
    "        \n",
    "        self.vol = vol # the calculated volume\n",
    "        self.prob = len(data)/tot_n  # probability of the node\n",
    "        self.tot_n = tot_n # yeah it is crep to put it in every node, but it is late...\n",
    "        \n",
    "        self.best_split = None\n",
    "    \n",
    "    @staticmethod\n",
    "    def score_min_error(n_l, n_r, tot_n, vol, i, n):\n",
    "        return -((((n_l+n_r)/tot_n)**2)/vol) + n*((((n_l/tot_n)**2)/i) + (((n_r/tot_n)**2)/(n-i)))/vol\n",
    "    \n",
    "    @staticmethod\n",
    "    def score_max_uniform(n_l, n_r, tot_n, vol, i, n):\n",
    "        vol_left = vol*i/n  \n",
    "        return ((n_l*vol - (n_r + n_l)*vol_left)**2)/(vol_left*(vol - vol_left))\n",
    "    \n",
    "    def get_score(self, score_func, n = 10):\n",
    "        \n",
    "        # if has been already calculated\n",
    "        if self.best_split != None:\n",
    "            return self.best_split[\"score\"]\n",
    "        \n",
    "        # init\n",
    "        self.best_split = {\n",
    "            \"score\": 0,\n",
    "            \"left\": None,\n",
    "            \"right\": None,\n",
    "            \"dimension\": None,\n",
    "            \"ratio\": None\n",
    "        }\n",
    "\n",
    "        \n",
    "        for d in range(self.data[0].shape[0]): # loop over all dimensions\n",
    "            for i in range(1, n): # loop over the number of cuts\n",
    "                \n",
    "                # split the data into left and right box\n",
    "                data_left = self.data[self.data[:,d] < self.bbox[d,0] + i*self.bbox[d,1]/n]\n",
    "                data_right = self.data[self.data[:,d] >= self.bbox[d,0] + i*self.bbox[d,1]/n]\n",
    "                \n",
    "                # do not allow split which would just shrink the node\n",
    "                # TODO: right?\n",
    "                if len(data_left) == 0 or len(data_right) == 0:\n",
    "                    continue\n",
    "                \n",
    "                # assert len(data_left) + len(data_right) == len(self.data)\n",
    "                \n",
    "                # call the given scoring function\n",
    "                score = score_func(len(data_left), len(data_right), self.tot_n, self.vol, i, n)\n",
    "                \n",
    "                # if found a new highest score keep the current values\n",
    "                if score > self.best_split[\"score\"]:\n",
    "                    self.best_split[\"score\"] = score\n",
    "                    self.best_split[\"left\"] = data_left\n",
    "                    self.best_split[\"right\"] = data_right\n",
    "                    self.best_split[\"dimension\"] = d\n",
    "                    self.best_split[\"ratio\"] = i/n\n",
    "\n",
    "        return self.best_split[\"score\"]\n",
    "    \n",
    "    def split(self):\n",
    "        \n",
    "        # assert len(self.data) != 0\n",
    "        \n",
    "        bbox_left = np.copy(self.bbox)\n",
    "        bbox_left[self.best_split[\"dimension\"], 1] *= self.best_split[\"ratio\"] # shrink the width for the left box\n",
    "        self.left = Node(self.best_split[\"left\"], bbox_left, self.vol*self.best_split[\"ratio\"], self.tot_n)\n",
    "        \n",
    "        bbox_right = np.copy(self.bbox)\n",
    "        bbox_right[self.best_split[\"dimension\"], 0] += bbox_right[self.best_split[\"dimension\"], 1]*self.best_split[\"ratio\"] # move beginning of right box\n",
    "        bbox_right[self.best_split[\"dimension\"], 1] *= (1 - self.best_split[\"ratio\"]) # shrink width of right box\n",
    "        self.right = Node(self.best_split[\"right\"], bbox_right, self.vol*(1 - self.best_split[\"ratio\"]), self.tot_n)\n",
    "        \n",
    "        #### Tests on bounding boxes\n",
    "        # Feel free to test but should pass :D\n",
    "        # assert (volume(bbox_left) - self.left.vol) < 1e-6\n",
    "        # assert (volume(bbox_right) - self.right.vol) < 1e-6\n",
    "        # for i in range(81):\n",
    "        #    if i == self.best_split[\"dimension\"]:\n",
    "        #        continue\n",
    "        #    assert self.left.bbox[i, 0] == self.right.bbox[i, 0]\n",
    "        #    assert self.left.bbox[i, 1] == self.right.bbox[i, 1]\n",
    "        # assert self.right.bbox[self.best_split[\"dimension\"], 0] == self.left.bbox[self.best_split[\"dimension\"], 0] + self.left.bbox[self.best_split[\"dimension\"], 1]\n",
    "\n",
    "    @staticmethod\n",
    "    def get_leaf_of_instance(node, instance):\n",
    "        current = node\n",
    "        while current.left != None: # avoid recursion\n",
    "            if instance[current.best_split[\"dimension\"]] > current.right.bbox[current.best_split[\"dimension\"], 0]:\n",
    "                current = current.right\n",
    "            else:\n",
    "                current = current.left\n",
    "        return current"
   ]
  },
  {
   "cell_type": "markdown",
   "metadata": {},
   "source": [
    "## Training"
   ]
  },
  {
   "cell_type": "code",
   "execution_count": 44,
   "metadata": {
    "collapsed": true
   },
   "outputs": [],
   "source": [
    "# DEBUG\n",
    "def get_probability(node):\n",
    "    \"\"\"\n",
    "    Recursively check the probability of the node and compare to precomputed one.\n",
    "    \"\"\"\n",
    "    if node.left == None:\n",
    "        return node.prob\n",
    "    else:\n",
    "        a = get_probability(node.left)\n",
    "        b = get_probability(node.right)\n",
    "        if np.abs(a + b - node.prob) > 1e-6:\n",
    "            print(a, b, node.prob)\n",
    "            raise ValueError('FATAL ERROR: probabilities do not match')\n",
    "        return a + b\n",
    "\n",
    "# DEBUG\n",
    "def check_instances(node):\n",
    "    \"\"\"\n",
    "    Check if each datapoint is inside the given boundary box\n",
    "    \"\"\"\n",
    "    for i in node.data:\n",
    "        for j in range(node.data[0].shape[0]):\n",
    "            # should both be 0 for both\n",
    "            if node.bbox[j, 0] - i[j] > 1e-6 or i[j] - node.bbox[j, 0] - node.bbox[j, 1] > 1e-6:\n",
    "                print(i[j], node.bbox[j])\n",
    "                raise ValueError('FATAL ERROR: instances outside of bounding box')\n",
    "\n",
    "\n",
    "def fit_density_tree1(features, tau, score_func):\n",
    "    \n",
    "    bincount = int(tau*len(features)**(1/3))\n",
    "    print('Use {:d} bins'.format(bincount))\n",
    "    \n",
    "    root_bounding = np.empty((features[0].shape[0], 2)) # init boundary box\n",
    "    \n",
    "    for i in range(features[0].shape[0]): # for each feature...\n",
    "        root_bounding[i, 0] = np.min(features[:,i]) # ... start box at smallest value ... \n",
    "        root_bounding[i, 1] = np.max(features[:,i]) - np.min(features[:,i]) # ... and set a width of max-min\n",
    "    \n",
    "    # init root node\n",
    "    root = Node(features, root_bounding, volume(root_bounding), len(features))\n",
    "    \n",
    "    # init leafs array\n",
    "    leafs = [root]\n",
    "    \n",
    "    while len(leafs) < bincount:\n",
    "        print('Leafs:', len(leafs), end='\\r')\n",
    "        \n",
    "        # get the scores for each leaf\n",
    "        scores = np.array([node.get_score(score_func) for node in leafs])\n",
    "\n",
    "        # get the leaf with the highest score\n",
    "        leaf_index = np.argmax(scores)\n",
    "        \n",
    "        # if the highest score is below 0: abbort\n",
    "        if scores[leaf_index] <= 0:\n",
    "            print('Highest score below 0, do not split any further.')\n",
    "            break\n",
    "        \n",
    "        # split the leaf with highest score\n",
    "        leafs[leaf_index].split()\n",
    "        \n",
    "        # append its children to the leaf\n",
    "        leafs.append(leafs[leaf_index].left)\n",
    "        leafs.append(leafs[leaf_index].right)\n",
    "\n",
    "        # remove from leafs\n",
    "        del leafs[leaf_index]\n",
    "    \n",
    "    \n",
    "    print('Check for errors...')\n",
    "    # DEBUG\n",
    "    for i in leafs:\n",
    "        check_instances(i)\n",
    "    print('All instances are inside their boundaries in the leaf nodes')\n",
    "    \n",
    "    # DEBUG\n",
    "    print('Root node has probability of {:f}'.format(get_probability(root)))\n",
    "   \n",
    "    return root"
   ]
  },
  {
   "cell_type": "code",
   "execution_count": 76,
   "metadata": {},
   "outputs": [
    {
     "name": "stdout",
     "output_type": "stream",
     "text": [
      "Use 1614 bins\n",
      "Leafs: 304 262"
     ]
    },
    {
     "name": "stderr",
     "output_type": "stream",
     "text": [
      "/Users/maxsimon/anaconda/lib/python3.6/site-packages/ipykernel_launcher.py:23: RuntimeWarning: overflow encountered in double_scalars\n",
      "/Users/maxsimon/anaconda/lib/python3.6/site-packages/ipykernel_launcher.py:23: RuntimeWarning: invalid value encountered in double_scalars\n"
     ]
    },
    {
     "name": "stdout",
     "output_type": "stream",
     "text": [
      "Check for errors... 502517531563568 605618653661678 697 703 734771784791 811 829834894901 920945952972 987 1014 11331146116011711201 1208 12541334 13561419 1440 1455 146314701478148514921555156915761609\n",
      "All instances are inside their boundaries in the leaf nodes\n",
      "Root node has probability of 1.000000\n"
     ]
    }
   ],
   "source": [
    "tree_min_error = fit_density_tree1(images[labels == 3], 70, Node.score_min_error)"
   ]
  },
  {
   "cell_type": "code",
   "execution_count": 77,
   "metadata": {},
   "outputs": [
    {
     "name": "stdout",
     "output_type": "stream",
     "text": [
      "Use 1614 bins\n",
      "Leafs: 152\r"
     ]
    },
    {
     "name": "stderr",
     "output_type": "stream",
     "text": [
      "/Users/maxsimon/anaconda/lib/python3.6/site-packages/ipykernel_launcher.py:28: RuntimeWarning: divide by zero encountered in double_scalars\n"
     ]
    },
    {
     "name": "stdout",
     "output_type": "stream",
     "text": [
      "Leafs: 153\r"
     ]
    },
    {
     "name": "stderr",
     "output_type": "stream",
     "text": [
      "/Users/maxsimon/anaconda/lib/python3.6/site-packages/ipykernel_launcher.py:28: RuntimeWarning: invalid value encountered in double_scalars\n"
     ]
    },
    {
     "name": "stdout",
     "output_type": "stream",
     "text": [
      "Check for errors...10711197 1203 12201237 1374 1398 14471524 1608\n",
      "All instances are inside their boundaries in the leaf nodes\n",
      "Root node has probability of 1.000000\n"
     ]
    }
   ],
   "source": [
    "tree_max_unif = fit_density_tree1(images[labels == 3], 70, Node.score_max_uniform)"
   ]
  },
  {
   "cell_type": "markdown",
   "metadata": {},
   "source": [
    "## Sampling"
   ]
  },
  {
   "cell_type": "code",
   "execution_count": 73,
   "metadata": {
    "collapsed": true
   },
   "outputs": [],
   "source": [
    "def sample_density_tree(tree):\n",
    "    t = np.random.rand()\n",
    "    current = tree\n",
    "    while current.left != None:\n",
    "        if t <= current.prob:\n",
    "            current = current.left     \n",
    "        else:\n",
    "            t -= current.prob\n",
    "            current = current.right\n",
    "    # current is now a leaf\n",
    "    \n",
    "    x = np.random.rand(current.data[0].shape[0]) # random numbers for inside the bins\n",
    "    print('Width of bbox: {:f} mean, {:f} max, {:f} min'.format(np.mean(current.bbox[:,1]), np.max(current.bbox[:,1]), np.min(current.bbox[:,1])))\n",
    "    return current.bbox[:,0] + x*current.bbox[:,1]"
   ]
  },
  {
   "cell_type": "markdown",
   "metadata": {},
   "source": [
    "### Minimizing error"
   ]
  },
  {
   "cell_type": "code",
   "execution_count": 78,
   "metadata": {},
   "outputs": [
    {
     "name": "stdout",
     "output_type": "stream",
     "text": [
      "Width of bbox: 0.605472 mean, 1.000000 max, 0.000000 min\n",
      "Width of bbox: 0.801757 mean, 1.000000 max, 0.000000 min\n",
      "Width of bbox: 0.729657 mean, 1.000000 max, 0.000000 min\n",
      "Width of bbox: 0.750268 mean, 1.000000 max, 0.000000 min\n",
      "Width of bbox: 0.659012 mean, 1.000000 max, 0.000000 min\n",
      "Width of bbox: 0.605471 mean, 1.000000 max, 0.000000 min\n",
      "Width of bbox: 0.629114 mean, 1.000000 max, 0.000000 min\n",
      "Width of bbox: 0.801966 mean, 1.000000 max, 0.000204 min\n"
     ]
    },
    {
     "data": {
      "image/png": "[encoded data removed]",
      "text/plain": [
       "<matplotlib.figure.Figure at 0x110d36198>"
      ]
     },
     "metadata": {},
     "output_type": "display_data"
    }
   ],
   "source": [
    "fig, ax = plt.subplots(2, 4)\n",
    "for i in range(8):\n",
    "    ax[i // 4, i % 4].imshow(sample_density_tree(tree_min_error).reshape(9, 9), cmap='Greys')\n",
    "plt.show()"
   ]
  },
  {
   "cell_type": "markdown",
   "metadata": {},
   "source": [
    "### Maximizing uniformity"
   ]
  },
  {
   "cell_type": "code",
   "execution_count": 79,
   "metadata": {},
   "outputs": [
    {
     "name": "stdout",
     "output_type": "stream",
     "text": [
      "Width of bbox: 0.616178 mean, 1.000000 max, 0.000000 min\n",
      "Width of bbox: 0.616559 mean, 1.000000 max, 0.000000 min\n",
      "Width of bbox: 0.616559 mean, 1.000000 max, 0.000000 min\n",
      "Width of bbox: 0.626084 mean, 1.000000 max, 0.000000 min\n",
      "Width of bbox: 0.616559 mean, 1.000000 max, 0.000000 min\n",
      "Width of bbox: 0.750254 mean, 1.000000 max, 0.000000 min\n",
      "Width of bbox: 0.734981 mean, 1.000000 max, 0.000020 min\n",
      "Width of bbox: 0.725587 mean, 1.000000 max, 0.000000 min\n"
     ]
    },
    {
     "data": {
      "image/png": "[encoded data removed]",
      "text/plain": [
       "<matplotlib.figure.Figure at 0x10b897710>"
      ]
     },
     "metadata": {},
     "output_type": "display_data"
    }
   ],
   "source": [
    "fig, ax = plt.subplots(2, 4)\n",
    "for i in range(8):\n",
    "    ax[i // 4, i % 4].imshow(sample_density_tree(tree_max_unif).reshape(9, 9), cmap='Greys')\n",
    "plt.show()"
   ]
  },
  {
   "cell_type": "markdown",
   "metadata": {},
   "source": [
    "## Classification"
   ]
  },
  {
   "cell_type": "code",
   "execution_count": 87,
   "metadata": {
    "collapsed": true
   },
   "outputs": [],
   "source": [
    "def predict_density_trees(test_features, tree_for_3, tree_for_9):\n",
    "    predicted_labels = np.empty(len(test_features))\n",
    "    for i, feature in enumerate(test_features):\n",
    "        if Node.get_leaf_of_instance(tree_for_3, feature).prob > Node.get_leaf_of_instance(tree_for_9, feature).prob:\n",
    "            predicted_labels[i] = 3\n",
    "        else:\n",
    "            predicted_labels[i] = 9\n",
    "    return predicted_labels"
   ]
  },
  {
   "cell_type": "code",
   "execution_count": 82,
   "metadata": {},
   "outputs": [
    {
     "name": "stdout",
     "output_type": "stream",
     "text": [
      "Use 230 bins\n",
      "Check for errors...\n",
      "All instances are inside their boundaries in the leaf nodes\n",
      "Root node has probability of 1.000000\n",
      "Use 228 bins\n",
      "Check for errors...\n",
      "All instances are inside their boundaries in the leaf nodes\n",
      "Root node has probability of 1.000000\n"
     ]
    }
   ],
   "source": [
    "tree_3 = fit_density_tree1(images[labels == 3], 10, Node.score_min_error)\n",
    "tree_9 = fit_density_tree1(images[labels == 9], 10, Node.score_min_error)"
   ]
  },
  {
   "cell_type": "code",
   "execution_count": null,
   "metadata": {
    "collapsed": true
   },
   "outputs": [],
   "source": [
    "def get_confusion_matrix(predicted, truth, possible_labels=[3, 9]):\n",
    "    conf = np.empty((len(possible_labels), len(possible_labels)))\n",
    "    for i, k in enumerate(possible_labels):\n",
    "        items, counts = np.unique(predicted[truth == k], return_counts=True)\n",
    "        count_array = np.array([counts[np.where(items == tested_k)[0][0]] for tested_k in possible_labels])\n",
    "        conf[i] = count_array\n",
    "    return conf"
   ]
  },
  {
   "cell_type": "code",
   "execution_count": 85,
   "metadata": {},
   "outputs": [],
   "source": [
    "f = h5py.File('./digits_test.h5')\n",
    "images_test = f[\"images\"].value\n",
    "labels_test = f[\"labels\"].value\n",
    "f.close()\n",
    "images_test = images_test.reshape(len(images_test), 81)/255"
   ]
  },
  {
   "cell_type": "code",
   "execution_count": 88,
   "metadata": {},
   "outputs": [],
   "source": [
    "mask = np.logical_or(labels_test == 3, labels_test == 9)\n",
    "prediction = predict_density_trees(images_test[mask], tree_3, tree_9)\n",
    "error_rate = np.count_nonzero(prediction - labels_test[mask])/prediction.shape[0]"
   ]
  },
  {
   "cell_type": "code",
   "execution_count": 89,
   "metadata": {},
   "outputs": [
    {
     "data": {
      "text/plain": [
       "0.3922238732045567"
      ]
     },
     "execution_count": 89,
     "metadata": {},
     "output_type": "execute_result"
    }
   ],
   "source": [
    "error_rate"
   ]
  },
  {
   "cell_type": "code",
   "execution_count": null,
   "metadata": {
    "collapsed": true
   },
   "outputs": [],
   "source": []
  }
 ],
 "metadata": {
  "kernelspec": {
   "display_name": "Python 3",
   "language": "python",
   "name": "python3"
  },
  "language_info": {
   "codemirror_mode": {
    "name": "ipython",
    "version": 3
   },
   "file_extension": ".py",
   "mimetype": "text/x-python",
   "name": "python",
   "nbconvert_exporter": "python",
   "pygments_lexer": "ipython3",
   "version": "3.6.1"
  }
 },
 "nbformat": 4,
 "nbformat_minor": 2
}
