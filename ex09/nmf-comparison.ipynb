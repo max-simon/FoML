{
 "cells": [
  {
   "cell_type": "code",
   "execution_count": 2,
   "metadata": {
    "collapsed": true
   },
   "outputs": [],
   "source": [
    "import numpy as np\n",
    "from sklearn import decomposition\n",
    "from sklearn.datasets import load_digits\n",
    "from matplotlib import pyplot as plt"
   ]
  },
  {
   "cell_type": "code",
   "execution_count": 116,
   "metadata": {},
   "outputs": [
    {
     "name": "stdout",
     "output_type": "stream",
     "text": [
      "(1797, 64)\n"
     ]
    }
   ],
   "source": [
    "digits = load_digits()\n",
    "X = digits[\"data\"]/255.\n",
    "Y = digits[\"target\"]\n",
    "print(X.shape)"
   ]
  },
  {
   "cell_type": "markdown",
   "metadata": {},
   "source": [
    "# SVD"
   ]
  },
  {
   "cell_type": "code",
   "execution_count": 128,
   "metadata": {},
   "outputs": [
    {
     "name": "stdout",
     "output_type": "stream",
     "text": [
      "True\n"
     ]
    }
   ],
   "source": [
    "x_means = np.mean(X, axis = 0)\n",
    "X_cent = X - x_means\n",
    "\n",
    "U, s, V = np.linalg.svd(X_cent, full_matrices=True)\n",
    "\n",
    "S = np.zeros(X_cent.shape, dtype=complex)\n",
    "S[:X_cent.shape[1], :X_cent.shape[1]] = np.diag(s)\n",
    "\n",
    "rec_svd = np.dot(U, np.dot(S, V)) + x_means\n",
    "\n",
    "print(np.allclose(X, rec_svd))"
   ]
  },
  {
   "cell_type": "markdown",
   "metadata": {},
   "source": [
    "# NMF"
   ]
  },
  {
   "cell_type": "code",
   "execution_count": 129,
   "metadata": {},
   "outputs": [
    {
     "name": "stdout",
     "output_type": "stream",
     "text": [
      "False\n"
     ]
    }
   ],
   "source": [
    "nmf = decomposition.NMF(n_components=20, max_iter=5000, tol=1e-6)\n",
    "w = nmf.fit_transform(X)\n",
    "h = nmf.components_\n",
    "\n",
    "rec_nmf = np.dot(w, h)\n",
    "\n",
    "print(np.allclose(X, rec_nmf))"
   ]
  },
  {
   "cell_type": "markdown",
   "metadata": {},
   "source": [
    "# Comparison"
   ]
  },
  {
   "cell_type": "code",
   "execution_count": 136,
   "metadata": {},
   "outputs": [
    {
     "data": {
      "image/png": "[encoded data removed]",
      "text/plain": [
       "<matplotlib.figure.Figure at 0x7f566675a4e0>"
      ]
     },
     "metadata": {},
     "output_type": "display_data"
    }
   ],
   "source": [
    "fig, ax = plt.subplots(1, 3, figsize=(3, 1))\n",
    "\n",
    "rand_number = np.random.randint(len(X))\n",
    "    \n",
    "ax[0].imshow(X[rand_number].reshape(8, 8), cmap='gray')\n",
    "ax[1].imshow(np.abs(rec_svd[rand_number]).reshape(8, 8), cmap='gray')\n",
    "ax[2].imshow(rec_nmf[rand_number].reshape(8, 8), cmap='gray')\n",
    "    \n",
    "plt.show()"
   ]
  },
  {
   "cell_type": "code",
   "execution_count": 146,
   "metadata": {},
   "outputs": [
    {
     "data": {
      "image/png": "[encoded data removed]",
      "text/plain": [
       "<matplotlib.figure.Figure at 0x7f56662e6630>"
      ]
     },
     "metadata": {},
     "output_type": "display_data"
    }
   ],
   "source": [
    "fig, ax = plt.subplots(6, 2, figsize=(3, 15))\n",
    "\n",
    "vmin = min(np.min(h[:6]), np.min(V[:6]))\n",
    "vmax = max(np.max(h[:6]), np.max(V[:6]))\n",
    "\n",
    "for i in range(6):\n",
    "    cax1 = ax[i, 0].imshow(h[i].reshape(8, 8), vmin=vmin, vmax=vmax)\n",
    "    cax2 = ax[i, 1].imshow(V[i].reshape(8, 8), vmin=vmin, vmax=vmax)\n",
    "plt.show()"
   ]
  },
  {
   "cell_type": "code",
   "execution_count": null,
   "metadata": {
    "collapsed": true
   },
   "outputs": [],
   "source": []
  }
 ],
 "metadata": {
  "kernelspec": {
   "display_name": "Python 3",
   "language": "python",
   "name": "python3"
  },
  "language_info": {
   "codemirror_mode": {
    "name": "ipython",
    "version": 3
   },
   "file_extension": ".py",
   "mimetype": "text/x-python",
   "name": "python",
   "nbconvert_exporter": "python",
   "pygments_lexer": "ipython3",
   "version": "3.6.3"
  }
 },
 "nbformat": 4,
 "nbformat_minor": 2
}
