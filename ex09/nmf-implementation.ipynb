{
 "cells": [
  {
   "cell_type": "code",
   "execution_count": 1,
   "metadata": {
    "collapsed": true
   },
   "outputs": [],
   "source": [
    "import numpy as np\n",
    "from matplotlib import pyplot as plt\n",
    "from sklearn.datasets import load_digits\n",
    "from sklearn import decomposition\n",
    "import pandas as pd\n"
   ]
  },
  {
   "cell_type": "code",
   "execution_count": 2,
   "metadata": {},
   "outputs": [
    {
     "name": "stdout",
     "output_type": "stream",
     "text": [
      "(1797, 64)\n"
     ]
    }
   ],
   "source": [
    "digits = load_digits()\n",
    "X = digits[\"data\"]/255.\n",
    "Y = digits[\"target\"]\n",
    "print(X.shape)"
   ]
  },
  {
   "cell_type": "markdown",
   "metadata": {},
   "source": [
    "# Question 4: Implementation of NMF"
   ]
  },
  {
   "cell_type": "code",
   "execution_count": 3,
   "metadata": {
    "collapsed": true
   },
   "outputs": [],
   "source": [
    "class MyNMF:\n",
    "    \n",
    "    def __init__(self, max_iter = 1000, num_comp = None):\n",
    "        self.max_iter = max_iter\n",
    "        self.num_comp = num_comp\n",
    "        \n",
    "        self.h = None\n",
    "        self.w = None\n",
    "        \n",
    "    def fit(self, X):\n",
    "        \n",
    "        self.num_comp = X.shape[1] if self.num_comp == None else self.num_comp\n",
    "        \n",
    "        X = np.asmatrix(X)\n",
    "        \n",
    "        self.w = np.asmatrix(np.abs(np.random.randn(X.shape[0], self.num_comp)))\n",
    "        self.h = np.asmatrix(np.abs(np.random.randn(self.num_comp, X.shape[1])))\n",
    "        \n",
    "        counter = 0\n",
    "        while counter < self.max_iter:\n",
    "            \n",
    "            self.h = np.matrix(np.array(self.h) * np.array(np.transpose(self.w) * X) / np.array(np.transpose(self.w) * self.w * self.h).clip(1e-8, np.inf))\n",
    "            self.w = np.matrix(np.array(self.w) * np.array(X * np.transpose(self.h)) / np.array(self.w * self.h * np.transpose(self.h)).clip(1e-8, np.inf))\n",
    "            \n",
    "            counter += 1\n",
    "            \n",
    "        "
   ]
  },
  {
   "cell_type": "code",
   "execution_count": 4,
   "metadata": {
    "collapsed": true
   },
   "outputs": [],
   "source": [
    "nmf1 = MyNMF(num_comp=30)\n",
    "nmf1.fit(X)\n",
    "\n",
    "w1 = nmf1.w\n",
    "h1 = nmf1.h"
   ]
  },
  {
   "cell_type": "code",
   "execution_count": 5,
   "metadata": {
    "collapsed": true
   },
   "outputs": [],
   "source": [
    "nmf2 = decomposition.NMF(max_iter=1000, n_components=30)\n",
    "w2 = nmf2.fit_transform(X)\n",
    "h2 = nmf2.components_"
   ]
  },
  {
   "cell_type": "markdown",
   "metadata": {},
   "source": [
    "## Comparison"
   ]
  },
  {
   "cell_type": "code",
   "execution_count": 8,
   "metadata": {},
   "outputs": [
    {
     "data": {
      "image/png": "[encoded data removed]",
      "text/plain": [
       "<matplotlib.figure.Figure at 0x7fbfffeefe10>"
      ]
     },
     "metadata": {},
     "output_type": "display_data"
    }
   ],
   "source": [
    "fig, ax = plt.subplots(1, 3, figsize=(3, 1))\n",
    "\n",
    "rand_number = np.random.randint(len(X))\n",
    "    \n",
    "ax[0].imshow(X[rand_number].reshape(8, 8), cmap='gray')\n",
    "rec1 = np.dot(w1[rand_number], h1)\n",
    "ax[1].imshow(rec1.reshape(8, 8), cmap='gray')\n",
    "rec2 = np.dot(w2[rand_number], h2)\n",
    "ax[2].imshow(rec2.reshape(8, 8), cmap='gray')\n",
    "    \n",
    "plt.show()"
   ]
  },
  {
   "cell_type": "markdown",
   "metadata": {},
   "source": [
    "As you can see, both classifiers perform similiar."
   ]
  },
  {
   "cell_type": "markdown",
   "metadata": {},
   "source": [
    "# Question 5: Recommender"
   ]
  },
  {
   "cell_type": "code",
   "execution_count": 9,
   "metadata": {},
   "outputs": [
    {
     "data": {
      "text/html": [
       "<div>\n",
       "<style>\n",
       "    .dataframe thead tr:only-child th {\n",
       "        text-align: right;\n",
       "    }\n",
       "\n",
       "    .dataframe thead th {\n",
       "        text-align: left;\n",
       "    }\n",
       "\n",
       "    .dataframe tbody tr th {\n",
       "        vertical-align: top;\n",
       "    }\n",
       "</style>\n",
       "<table border=\"1\" class=\"dataframe\">\n",
       "  <thead>\n",
       "    <tr style=\"text-align: right;\">\n",
       "      <th></th>\n",
       "      <th>user id</th>\n",
       "      <th>movie id</th>\n",
       "      <th>rating</th>\n",
       "      <th>timestamp</th>\n",
       "    </tr>\n",
       "  </thead>\n",
       "  <tbody>\n",
       "    <tr>\n",
       "      <th>0</th>\n",
       "      <td>196</td>\n",
       "      <td>242</td>\n",
       "      <td>3</td>\n",
       "      <td>881250949</td>\n",
       "    </tr>\n",
       "    <tr>\n",
       "      <th>1</th>\n",
       "      <td>186</td>\n",
       "      <td>302</td>\n",
       "      <td>3</td>\n",
       "      <td>891717742</td>\n",
       "    </tr>\n",
       "    <tr>\n",
       "      <th>2</th>\n",
       "      <td>22</td>\n",
       "      <td>377</td>\n",
       "      <td>1</td>\n",
       "      <td>878887116</td>\n",
       "    </tr>\n",
       "    <tr>\n",
       "      <th>3</th>\n",
       "      <td>244</td>\n",
       "      <td>51</td>\n",
       "      <td>2</td>\n",
       "      <td>880606923</td>\n",
       "    </tr>\n",
       "    <tr>\n",
       "      <th>4</th>\n",
       "      <td>166</td>\n",
       "      <td>346</td>\n",
       "      <td>1</td>\n",
       "      <td>886397596</td>\n",
       "    </tr>\n",
       "  </tbody>\n",
       "</table>\n",
       "</div>"
      ],
      "text/plain": [
       "   user id  movie id  rating  timestamp\n",
       "0      196       242       3  881250949\n",
       "1      186       302       3  891717742\n",
       "2       22       377       1  878887116\n",
       "3      244        51       2  880606923\n",
       "4      166       346       1  886397596"
      ]
     },
     "execution_count": 9,
     "metadata": {},
     "output_type": "execute_result"
    }
   ],
   "source": [
    "ratings_cols = ['user id', 'movie id', 'rating', 'timestamp']\n",
    "movies_cols =['movie id', 'movie title', 'release date', 'video release date', 'IMDb URL ', 'unknown', 'Action',\n",
    "'Adventure','Animation','Childrens', 'Comedy', 'Crime', 'Documentary', 'Drama', 'Fantasy', 'Film- Noir', 'Horror',\n",
    "'Musical', 'Mystery', 'Romance', 'Sci-Fi', 'Thriller', 'War','Western']\n",
    "users_cols =['user id', 'age', 'gender', 'occupation', 'zipcode']\n",
    "\n",
    "users = pd.read_csv('ml-100k/u.user',sep = '|', names = users_cols , encoding ='latin-1')\n",
    "movies = pd. read_csv ('ml-100k/u.item',sep = '|', names = movies_cols , encoding = 'latin-1')\n",
    "ratings = pd . read_csv ( 'ml-100k/u.data',sep = '\\t', names = ratings_cols , encoding = 'latin-1')\n",
    "\n",
    "ratings.head()\n"
   ]
  },
  {
   "cell_type": "code",
   "execution_count": 10,
   "metadata": {},
   "outputs": [
    {
     "data": {
      "text/html": [
       "<div>\n",
       "<style>\n",
       "    .dataframe thead tr:only-child th {\n",
       "        text-align: right;\n",
       "    }\n",
       "\n",
       "    .dataframe thead th {\n",
       "        text-align: left;\n",
       "    }\n",
       "\n",
       "    .dataframe tbody tr th {\n",
       "        vertical-align: top;\n",
       "    }\n",
       "</style>\n",
       "<table border=\"1\" class=\"dataframe\">\n",
       "  <thead>\n",
       "    <tr style=\"text-align: right;\">\n",
       "      <th>movie id</th>\n",
       "      <th>1</th>\n",
       "      <th>2</th>\n",
       "      <th>3</th>\n",
       "      <th>4</th>\n",
       "      <th>5</th>\n",
       "      <th>6</th>\n",
       "      <th>7</th>\n",
       "      <th>8</th>\n",
       "      <th>9</th>\n",
       "      <th>10</th>\n",
       "      <th>...</th>\n",
       "      <th>1673</th>\n",
       "      <th>1674</th>\n",
       "      <th>1675</th>\n",
       "      <th>1676</th>\n",
       "      <th>1677</th>\n",
       "      <th>1678</th>\n",
       "      <th>1679</th>\n",
       "      <th>1680</th>\n",
       "      <th>1681</th>\n",
       "      <th>1682</th>\n",
       "    </tr>\n",
       "    <tr>\n",
       "      <th>user id</th>\n",
       "      <th></th>\n",
       "      <th></th>\n",
       "      <th></th>\n",
       "      <th></th>\n",
       "      <th></th>\n",
       "      <th></th>\n",
       "      <th></th>\n",
       "      <th></th>\n",
       "      <th></th>\n",
       "      <th></th>\n",
       "      <th></th>\n",
       "      <th></th>\n",
       "      <th></th>\n",
       "      <th></th>\n",
       "      <th></th>\n",
       "      <th></th>\n",
       "      <th></th>\n",
       "      <th></th>\n",
       "      <th></th>\n",
       "      <th></th>\n",
       "      <th></th>\n",
       "    </tr>\n",
       "  </thead>\n",
       "  <tbody>\n",
       "    <tr>\n",
       "      <th>1</th>\n",
       "      <td>5.0</td>\n",
       "      <td>3.0</td>\n",
       "      <td>4.0</td>\n",
       "      <td>3.0</td>\n",
       "      <td>3.0</td>\n",
       "      <td>5.0</td>\n",
       "      <td>4.0</td>\n",
       "      <td>1.0</td>\n",
       "      <td>5.0</td>\n",
       "      <td>3.0</td>\n",
       "      <td>...</td>\n",
       "      <td>0.0</td>\n",
       "      <td>0.0</td>\n",
       "      <td>0.0</td>\n",
       "      <td>0.0</td>\n",
       "      <td>0.0</td>\n",
       "      <td>0.0</td>\n",
       "      <td>0.0</td>\n",
       "      <td>0.0</td>\n",
       "      <td>0.0</td>\n",
       "      <td>0.0</td>\n",
       "    </tr>\n",
       "    <tr>\n",
       "      <th>2</th>\n",
       "      <td>4.0</td>\n",
       "      <td>0.0</td>\n",
       "      <td>0.0</td>\n",
       "      <td>0.0</td>\n",
       "      <td>0.0</td>\n",
       "      <td>0.0</td>\n",
       "      <td>0.0</td>\n",
       "      <td>0.0</td>\n",
       "      <td>0.0</td>\n",
       "      <td>2.0</td>\n",
       "      <td>...</td>\n",
       "      <td>0.0</td>\n",
       "      <td>0.0</td>\n",
       "      <td>0.0</td>\n",
       "      <td>0.0</td>\n",
       "      <td>0.0</td>\n",
       "      <td>0.0</td>\n",
       "      <td>0.0</td>\n",
       "      <td>0.0</td>\n",
       "      <td>0.0</td>\n",
       "      <td>0.0</td>\n",
       "    </tr>\n",
       "    <tr>\n",
       "      <th>3</th>\n",
       "      <td>0.0</td>\n",
       "      <td>0.0</td>\n",
       "      <td>0.0</td>\n",
       "      <td>0.0</td>\n",
       "      <td>0.0</td>\n",
       "      <td>0.0</td>\n",
       "      <td>0.0</td>\n",
       "      <td>0.0</td>\n",
       "      <td>0.0</td>\n",
       "      <td>0.0</td>\n",
       "      <td>...</td>\n",
       "      <td>0.0</td>\n",
       "      <td>0.0</td>\n",
       "      <td>0.0</td>\n",
       "      <td>0.0</td>\n",
       "      <td>0.0</td>\n",
       "      <td>0.0</td>\n",
       "      <td>0.0</td>\n",
       "      <td>0.0</td>\n",
       "      <td>0.0</td>\n",
       "      <td>0.0</td>\n",
       "    </tr>\n",
       "    <tr>\n",
       "      <th>4</th>\n",
       "      <td>0.0</td>\n",
       "      <td>0.0</td>\n",
       "      <td>0.0</td>\n",
       "      <td>0.0</td>\n",
       "      <td>0.0</td>\n",
       "      <td>0.0</td>\n",
       "      <td>0.0</td>\n",
       "      <td>0.0</td>\n",
       "      <td>0.0</td>\n",
       "      <td>0.0</td>\n",
       "      <td>...</td>\n",
       "      <td>0.0</td>\n",
       "      <td>0.0</td>\n",
       "      <td>0.0</td>\n",
       "      <td>0.0</td>\n",
       "      <td>0.0</td>\n",
       "      <td>0.0</td>\n",
       "      <td>0.0</td>\n",
       "      <td>0.0</td>\n",
       "      <td>0.0</td>\n",
       "      <td>0.0</td>\n",
       "    </tr>\n",
       "    <tr>\n",
       "      <th>5</th>\n",
       "      <td>4.0</td>\n",
       "      <td>3.0</td>\n",
       "      <td>0.0</td>\n",
       "      <td>0.0</td>\n",
       "      <td>0.0</td>\n",
       "      <td>0.0</td>\n",
       "      <td>0.0</td>\n",
       "      <td>0.0</td>\n",
       "      <td>0.0</td>\n",
       "      <td>0.0</td>\n",
       "      <td>...</td>\n",
       "      <td>0.0</td>\n",
       "      <td>0.0</td>\n",
       "      <td>0.0</td>\n",
       "      <td>0.0</td>\n",
       "      <td>0.0</td>\n",
       "      <td>0.0</td>\n",
       "      <td>0.0</td>\n",
       "      <td>0.0</td>\n",
       "      <td>0.0</td>\n",
       "      <td>0.0</td>\n",
       "    </tr>\n",
       "  </tbody>\n",
       "</table>\n",
       "<p>5 rows × 1682 columns</p>\n",
       "</div>"
      ],
      "text/plain": [
       "movie id  1     2     3     4     5     6     7     8     9     10    ...   \\\n",
       "user id                                                               ...    \n",
       "1          5.0   3.0   4.0   3.0   3.0   5.0   4.0   1.0   5.0   3.0  ...    \n",
       "2          4.0   0.0   0.0   0.0   0.0   0.0   0.0   0.0   0.0   2.0  ...    \n",
       "3          0.0   0.0   0.0   0.0   0.0   0.0   0.0   0.0   0.0   0.0  ...    \n",
       "4          0.0   0.0   0.0   0.0   0.0   0.0   0.0   0.0   0.0   0.0  ...    \n",
       "5          4.0   3.0   0.0   0.0   0.0   0.0   0.0   0.0   0.0   0.0  ...    \n",
       "\n",
       "movie id  1673  1674  1675  1676  1677  1678  1679  1680  1681  1682  \n",
       "user id                                                               \n",
       "1          0.0   0.0   0.0   0.0   0.0   0.0   0.0   0.0   0.0   0.0  \n",
       "2          0.0   0.0   0.0   0.0   0.0   0.0   0.0   0.0   0.0   0.0  \n",
       "3          0.0   0.0   0.0   0.0   0.0   0.0   0.0   0.0   0.0   0.0  \n",
       "4          0.0   0.0   0.0   0.0   0.0   0.0   0.0   0.0   0.0   0.0  \n",
       "5          0.0   0.0   0.0   0.0   0.0   0.0   0.0   0.0   0.0   0.0  \n",
       "\n",
       "[5 rows x 1682 columns]"
      ]
     },
     "execution_count": 10,
     "metadata": {},
     "output_type": "execute_result"
    }
   ],
   "source": [
    "fill_value = 0\n",
    "rat_df = ratings.pivot( index = 'user id', columns = 'movie id', values = 'rating').fillna(fill_value)\n",
    "rat_df.head()"
   ]
  },
  {
   "cell_type": "markdown",
   "metadata": {},
   "source": [
    "## NMF Recommender"
   ]
  },
  {
   "cell_type": "code",
   "execution_count": 11,
   "metadata": {},
   "outputs": [
    {
     "name": "stdout",
     "output_type": "stream",
     "text": [
      "0.9369533063577546\n"
     ]
    }
   ],
   "source": [
    "x_r = rat_df.as_matrix()\n",
    "sparsity = 1 - np.count_nonzero(x_r)/(x_r.shape[0] * x_r.shape[1])\n",
    "print(sparsity)"
   ]
  },
  {
   "cell_type": "code",
   "execution_count": 12,
   "metadata": {
    "collapsed": true
   },
   "outputs": [],
   "source": [
    "def recommend_movies(rec, user_id, ratings, n = 5):\n",
    "    # reconstructed ratings of user\n",
    "    user_rec = rec.loc[user_id].as_matrix()\n",
    "    # ids of already rated\n",
    "    have_seen = ratings['movie id'][ratings['user id'] == user_id].as_matrix()\n",
    "    \n",
    "    # lowest one is in front\n",
    "    sorted_by_rating = np.argsort(user_rec)\n",
    "    # only those which have not been rated by user\n",
    "    mask = np.logical_not(np.in1d(rec.columns[sorted_by_rating], have_seen))\n",
    "    # apply sorting and mask\n",
    "    best_ids = rec.columns[sorted_by_rating][mask]\n",
    "    # return number of desired recommendations\n",
    "    return best_ids[-n:]\n"
   ]
  },
  {
   "cell_type": "markdown",
   "metadata": {},
   "source": [
    "### Stability of Recommender"
   ]
  },
  {
   "cell_type": "code",
   "execution_count": 13,
   "metadata": {
    "collapsed": true
   },
   "outputs": [],
   "source": [
    "recomments = []\n",
    "\n",
    "for _ in range(50):\n",
    "    comender = decomposition.NMF(max_iter=5000, n_components=25)\n",
    "    w3 = comender.fit_transform(x_r)\n",
    "    h3 = comender.components_\n",
    "    rec = np.dot(w3, h3)\n",
    "    rec_df = pd.DataFrame(data = rec, columns = rat_df.columns, index = rat_df.index)\n",
    "    \n",
    "    recomments.append(recommend_movies(rec_df, 2, ratings))\n",
    "recomments = np.array(recomments)"
   ]
  },
  {
   "cell_type": "code",
   "execution_count": 14,
   "metadata": {
    "collapsed": true
   },
   "outputs": [],
   "source": [
    "recommended_ids, occurences = np.unique(recomments, return_counts=True)"
   ]
  },
  {
   "cell_type": "code",
   "execution_count": 15,
   "metadata": {},
   "outputs": [
    {
     "name": "stdout",
     "output_type": "stream",
     "text": [
      "Movie id     9:  50 times\n",
      "Movie id    15:   4 times\n",
      "Movie id   116:  47 times\n",
      "Movie id   124:  50 times\n",
      "Movie id   137:  50 times\n",
      "Movie id   181:  49 times\n"
     ]
    }
   ],
   "source": [
    "for i, recommended_id in enumerate(recommended_ids):\n",
    "    print('Movie id {:5d}: {:3d} times'.format(recommended_id, occurences[i]))"
   ]
  },
  {
   "cell_type": "markdown",
   "metadata": {},
   "source": [
    "The recommender is relatively stable against random initialisation."
   ]
  },
  {
   "cell_type": "markdown",
   "metadata": {},
   "source": [
    "### Analysis of H"
   ]
  },
  {
   "cell_type": "code",
   "execution_count": 16,
   "metadata": {},
   "outputs": [
    {
     "name": "stdout",
     "output_type": "stream",
     "text": [
      "0.1243665383456295\n"
     ]
    }
   ],
   "source": [
    "comender = decomposition.NMF(max_iter=5000, n_components=25)\n",
    "w3 = comender.fit_transform(x_r)\n",
    "h3 = comender.components_\n",
    "rec_sparsity = 1 - np.count_nonzero(rec)/(rec.shape[0] * rec.shape[1])\n",
    "print(rec_sparsity)"
   ]
  },
  {
   "cell_type": "code",
   "execution_count": 17,
   "metadata": {},
   "outputs": [
    {
     "data": {
      "text/html": [
       "<div>\n",
       "<style>\n",
       "    .dataframe thead tr:only-child th {\n",
       "        text-align: right;\n",
       "    }\n",
       "\n",
       "    .dataframe thead th {\n",
       "        text-align: left;\n",
       "    }\n",
       "\n",
       "    .dataframe tbody tr th {\n",
       "        vertical-align: top;\n",
       "    }\n",
       "</style>\n",
       "<table border=\"1\" class=\"dataframe\">\n",
       "  <thead>\n",
       "    <tr style=\"text-align: right;\">\n",
       "      <th>movie id</th>\n",
       "      <th>1</th>\n",
       "      <th>2</th>\n",
       "      <th>3</th>\n",
       "      <th>4</th>\n",
       "      <th>5</th>\n",
       "      <th>6</th>\n",
       "      <th>7</th>\n",
       "      <th>8</th>\n",
       "      <th>9</th>\n",
       "      <th>10</th>\n",
       "      <th>...</th>\n",
       "      <th>1673</th>\n",
       "      <th>1674</th>\n",
       "      <th>1675</th>\n",
       "      <th>1676</th>\n",
       "      <th>1677</th>\n",
       "      <th>1678</th>\n",
       "      <th>1679</th>\n",
       "      <th>1680</th>\n",
       "      <th>1681</th>\n",
       "      <th>1682</th>\n",
       "    </tr>\n",
       "    <tr>\n",
       "      <th>user id</th>\n",
       "      <th></th>\n",
       "      <th></th>\n",
       "      <th></th>\n",
       "      <th></th>\n",
       "      <th></th>\n",
       "      <th></th>\n",
       "      <th></th>\n",
       "      <th></th>\n",
       "      <th></th>\n",
       "      <th></th>\n",
       "      <th></th>\n",
       "      <th></th>\n",
       "      <th></th>\n",
       "      <th></th>\n",
       "      <th></th>\n",
       "      <th></th>\n",
       "      <th></th>\n",
       "      <th></th>\n",
       "      <th></th>\n",
       "      <th></th>\n",
       "      <th></th>\n",
       "    </tr>\n",
       "  </thead>\n",
       "  <tbody>\n",
       "    <tr>\n",
       "      <th>1</th>\n",
       "      <td>4.488337</td>\n",
       "      <td>2.010705</td>\n",
       "      <td>1.322843</td>\n",
       "      <td>2.835408</td>\n",
       "      <td>0.990443</td>\n",
       "      <td>0.585966</td>\n",
       "      <td>4.048590</td>\n",
       "      <td>3.050422</td>\n",
       "      <td>3.098791</td>\n",
       "      <td>1.902272</td>\n",
       "      <td>...</td>\n",
       "      <td>0.003160</td>\n",
       "      <td>0.040722</td>\n",
       "      <td>0.009260</td>\n",
       "      <td>0.006173</td>\n",
       "      <td>0.019730</td>\n",
       "      <td>0.000404</td>\n",
       "      <td>0.001213</td>\n",
       "      <td>0.000809</td>\n",
       "      <td>0.042291</td>\n",
       "      <td>0.055634</td>\n",
       "    </tr>\n",
       "    <tr>\n",
       "      <th>2</th>\n",
       "      <td>2.242333</td>\n",
       "      <td>0.017193</td>\n",
       "      <td>0.077805</td>\n",
       "      <td>0.046189</td>\n",
       "      <td>0.084185</td>\n",
       "      <td>0.373892</td>\n",
       "      <td>1.119614</td>\n",
       "      <td>0.411466</td>\n",
       "      <td>2.879184</td>\n",
       "      <td>0.821143</td>\n",
       "      <td>...</td>\n",
       "      <td>0.001789</td>\n",
       "      <td>0.000000</td>\n",
       "      <td>0.005848</td>\n",
       "      <td>0.003899</td>\n",
       "      <td>0.008658</td>\n",
       "      <td>0.008152</td>\n",
       "      <td>0.024457</td>\n",
       "      <td>0.016305</td>\n",
       "      <td>0.000000</td>\n",
       "      <td>0.000000</td>\n",
       "    </tr>\n",
       "    <tr>\n",
       "      <th>3</th>\n",
       "      <td>0.234201</td>\n",
       "      <td>0.033120</td>\n",
       "      <td>0.048310</td>\n",
       "      <td>0.094091</td>\n",
       "      <td>0.004501</td>\n",
       "      <td>0.096360</td>\n",
       "      <td>0.111447</td>\n",
       "      <td>0.224431</td>\n",
       "      <td>0.092282</td>\n",
       "      <td>0.075737</td>\n",
       "      <td>...</td>\n",
       "      <td>0.001070</td>\n",
       "      <td>0.000049</td>\n",
       "      <td>0.004019</td>\n",
       "      <td>0.002679</td>\n",
       "      <td>0.002583</td>\n",
       "      <td>0.007111</td>\n",
       "      <td>0.021334</td>\n",
       "      <td>0.014222</td>\n",
       "      <td>0.000068</td>\n",
       "      <td>0.000786</td>\n",
       "    </tr>\n",
       "    <tr>\n",
       "      <th>4</th>\n",
       "      <td>0.836443</td>\n",
       "      <td>0.024352</td>\n",
       "      <td>0.050013</td>\n",
       "      <td>0.103853</td>\n",
       "      <td>0.056310</td>\n",
       "      <td>0.000263</td>\n",
       "      <td>0.262536</td>\n",
       "      <td>0.137048</td>\n",
       "      <td>0.085587</td>\n",
       "      <td>0.002447</td>\n",
       "      <td>...</td>\n",
       "      <td>0.000452</td>\n",
       "      <td>0.000091</td>\n",
       "      <td>0.000000</td>\n",
       "      <td>0.000000</td>\n",
       "      <td>0.001790</td>\n",
       "      <td>0.003851</td>\n",
       "      <td>0.011552</td>\n",
       "      <td>0.007701</td>\n",
       "      <td>0.000147</td>\n",
       "      <td>0.001424</td>\n",
       "    </tr>\n",
       "    <tr>\n",
       "      <th>5</th>\n",
       "      <td>3.737589</td>\n",
       "      <td>1.257290</td>\n",
       "      <td>0.132148</td>\n",
       "      <td>1.678486</td>\n",
       "      <td>0.876023</td>\n",
       "      <td>0.000000</td>\n",
       "      <td>2.828462</td>\n",
       "      <td>1.920054</td>\n",
       "      <td>0.048177</td>\n",
       "      <td>0.445339</td>\n",
       "      <td>...</td>\n",
       "      <td>0.000000</td>\n",
       "      <td>0.000843</td>\n",
       "      <td>0.006967</td>\n",
       "      <td>0.004645</td>\n",
       "      <td>0.000135</td>\n",
       "      <td>0.000000</td>\n",
       "      <td>0.000000</td>\n",
       "      <td>0.000000</td>\n",
       "      <td>0.006420</td>\n",
       "      <td>0.006276</td>\n",
       "    </tr>\n",
       "  </tbody>\n",
       "</table>\n",
       "<p>5 rows × 1682 columns</p>\n",
       "</div>"
      ],
      "text/plain": [
       "movie id      1         2         3         4         5         6     \\\n",
       "user id                                                                \n",
       "1         4.488337  2.010705  1.322843  2.835408  0.990443  0.585966   \n",
       "2         2.242333  0.017193  0.077805  0.046189  0.084185  0.373892   \n",
       "3         0.234201  0.033120  0.048310  0.094091  0.004501  0.096360   \n",
       "4         0.836443  0.024352  0.050013  0.103853  0.056310  0.000263   \n",
       "5         3.737589  1.257290  0.132148  1.678486  0.876023  0.000000   \n",
       "\n",
       "movie id      7         8         9         10      ...         1673  \\\n",
       "user id                                             ...                \n",
       "1         4.048590  3.050422  3.098791  1.902272    ...     0.003160   \n",
       "2         1.119614  0.411466  2.879184  0.821143    ...     0.001789   \n",
       "3         0.111447  0.224431  0.092282  0.075737    ...     0.001070   \n",
       "4         0.262536  0.137048  0.085587  0.002447    ...     0.000452   \n",
       "5         2.828462  1.920054  0.048177  0.445339    ...     0.000000   \n",
       "\n",
       "movie id      1674      1675      1676      1677      1678      1679  \\\n",
       "user id                                                                \n",
       "1         0.040722  0.009260  0.006173  0.019730  0.000404  0.001213   \n",
       "2         0.000000  0.005848  0.003899  0.008658  0.008152  0.024457   \n",
       "3         0.000049  0.004019  0.002679  0.002583  0.007111  0.021334   \n",
       "4         0.000091  0.000000  0.000000  0.001790  0.003851  0.011552   \n",
       "5         0.000843  0.006967  0.004645  0.000135  0.000000  0.000000   \n",
       "\n",
       "movie id      1680      1681      1682  \n",
       "user id                                 \n",
       "1         0.000809  0.042291  0.055634  \n",
       "2         0.016305  0.000000  0.000000  \n",
       "3         0.014222  0.000068  0.000786  \n",
       "4         0.007701  0.000147  0.001424  \n",
       "5         0.000000  0.006420  0.006276  \n",
       "\n",
       "[5 rows x 1682 columns]"
      ]
     },
     "execution_count": 17,
     "metadata": {},
     "output_type": "execute_result"
    }
   ],
   "source": [
    "rec_df = pd.DataFrame(data = rec, columns = rat_df.columns, index = rat_df.index)\n",
    "rec_df.head()"
   ]
  },
  {
   "cell_type": "code",
   "execution_count": 18,
   "metadata": {
    "collapsed": true
   },
   "outputs": [],
   "source": [
    "def get_highest_rated_category(cat_names, movies, movie_vector):\n",
    "    \n",
    "    # this gets the percentage of likes for all categories on a specific movie vector\n",
    "    # movie vector contains the ratings\n",
    "    \n",
    "    total_rates = {}\n",
    "    tot_sum = 0\n",
    "    for cat in cat_names:\n",
    "        total_rates[cat] = np.sum(movie_vector * movies[cat].as_matrix())/len(movie_vector)\n",
    "        tot_sum += total_rates[cat]\n",
    "    for key in total_rates:\n",
    "        # normalise\n",
    "        total_rates[key] /= tot_sum\n",
    "    return total_rates\n",
    "\n",
    "def get_rates_for_category(cat_names, movies, h):\n",
    "    results = []\n",
    "    # get for each vector the distribution\n",
    "    for movie_vector in h:\n",
    "        rates_cat = get_highest_rated_category(cat_names, movies, movie_vector)\n",
    "        results.append([rates_cat[cat] for cat in cat_names])\n",
    "    return np.array(results)"
   ]
  },
  {
   "cell_type": "code",
   "execution_count": 19,
   "metadata": {
    "collapsed": true
   },
   "outputs": [],
   "source": [
    "comp = get_rates_for_category(movies_cols[5:], movies, h3)"
   ]
  },
  {
   "cell_type": "code",
   "execution_count": 20,
   "metadata": {},
   "outputs": [
    {
     "data": {
      "image/png": "[encoded data removed]",
      "text/plain": [
       "<matplotlib.figure.Figure at 0x7fbfffe76198>"
      ]
     },
     "metadata": {},
     "output_type": "display_data"
    }
   ],
   "source": [
    "fig, ax = plt.subplots(1, 1, figsize = (20, 10))\n",
    "last = np.zeros(comp.shape[0])\n",
    "for i in range(comp.shape[1]):\n",
    "    ax.bar(np.arange(comp.shape[0]), comp[:,i], bottom = last, label=movies_cols[5 + i])\n",
    "    last += comp[:, i]\n",
    "\n",
    "ax.legend()\n",
    "plt.show()"
   ]
  },
  {
   "cell_type": "markdown",
   "metadata": {
    "collapsed": true
   },
   "source": [
    "There are some vectors, which can be associated with a category. For example vector 9 (zero-indexing) is related with Horror, vector 11 with Comedy and vector 24 with Musicals."
   ]
  },
  {
   "cell_type": "code",
   "execution_count": null,
   "metadata": {
    "collapsed": true
   },
   "outputs": [],
   "source": []
  }
 ],
 "metadata": {
  "kernelspec": {
   "display_name": "Python 3",
   "language": "python",
   "name": "python3"
  },
  "language_info": {
   "codemirror_mode": {
    "name": "ipython",
    "version": 3
   },
   "file_extension": ".py",
   "mimetype": "text/x-python",
   "name": "python",
   "nbconvert_exporter": "python",
   "pygments_lexer": "ipython3",
   "version": "3.6.3"
  }
 },
 "nbformat": 4,
 "nbformat_minor": 2
}
