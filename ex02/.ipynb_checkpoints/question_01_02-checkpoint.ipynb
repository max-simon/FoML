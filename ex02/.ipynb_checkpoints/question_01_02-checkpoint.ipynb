{
 "cells": [
  {
   "cell_type": "code",
   "execution_count": 1,
   "metadata": {},
   "outputs": [
    {
     "name": "stderr",
     "output_type": "stream",
     "text": [
      "/Users/maxsimon/anaconda/lib/python3.6/site-packages/sklearn/cross_validation.py:44: DeprecationWarning: This module was deprecated in version 0.18 in favor of the model_selection module into which all the refactored classes and functions are moved. Also note that the interface of the new CV iterators are different from that of this module. This module will be removed in 0.20.\n",
      "  \"This module will be removed in 0.20.\", DeprecationWarning)\n"
     ]
    }
   ],
   "source": [
    "import numpy as np\n",
    "from matplotlib import pyplot as plt\n",
    "from sklearn import cross_validation\n",
    "\n",
    "from sklearn.datasets import load_digits"
   ]
  },
  {
   "cell_type": "code",
   "execution_count": 2,
   "metadata": {},
   "outputs": [
    {
     "name": "stdout",
     "output_type": "stream",
     "text": [
      "dict_keys(['data', 'target', 'target_names', 'images', 'DESCR'])\n"
     ]
    }
   ],
   "source": [
    "digits = load_digits()\n",
    "print(digits.keys())"
   ]
  },
  {
   "cell_type": "code",
   "execution_count": 3,
   "metadata": {
    "collapsed": true
   },
   "outputs": [],
   "source": [
    "data = digits[\"data\"]\n",
    "images = digits[\"images\"]\n",
    "target = digits[\"target\"]\n",
    "target_names = digits[\"target_names\"]"
   ]
  },
  {
   "cell_type": "code",
   "execution_count": 4,
   "metadata": {
    "collapsed": true
   },
   "outputs": [],
   "source": [
    "# split data into training and test data\n",
    "X_all = data\n",
    "y_all = target\n",
    "\n",
    "X_train , X_test , y_train , y_test = cross_validation.train_test_split(digits.data, digits.target, test_size=0.4, random_state=0)"
   ]
  },
  {
   "cell_type": "markdown",
   "metadata": {},
   "source": [
    "# Question 1: Dimension reduction"
   ]
  },
  {
   "cell_type": "code",
   "execution_count": 5,
   "metadata": {
    "collapsed": true
   },
   "outputs": [],
   "source": [
    "def get_class(x, y, desired):\n",
    "    \"\"\"\n",
    "    Returns a subarray of x where y = desired\n",
    "    \"\"\"\n",
    "    return x[y == desired]"
   ]
  },
  {
   "cell_type": "markdown",
   "metadata": {},
   "source": [
    "First of all we are looking onto the difference of a mean image of all 1's and a mean image of all 7's."
   ]
  },
  {
   "cell_type": "code",
   "execution_count": 6,
   "metadata": {},
   "outputs": [
    {
     "data": {
      "image/png": "[encoded data removed]",
      "text/plain": [
       "<matplotlib.figure.Figure at 0x119f60898>"
      ]
     },
     "metadata": {},
     "output_type": "display_data"
    }
   ],
   "source": [
    "fig, ax = plt.subplots(1, 1)\n",
    "im = ax.imshow(np.mean(get_class(images, target, 1), axis=0) - np.mean(get_class(images, target, 7), axis=0))\n",
    "plt.colorbar(im)\n",
    "plt.show()"
   ]
  },
  {
   "cell_type": "markdown",
   "metadata": {},
   "source": [
    "One can recognize, that pixels (2,3), (2,4), (3,3) as well as pixels (6,4), (6,5), (7,4), (7,5) are often populated in a 1 whereas pixels (1,2), (3,5), (4,5) and (7,2) are often populated in a 7."
   ]
  },
  {
   "cell_type": "code",
   "execution_count": 7,
   "metadata": {
    "collapsed": true
   },
   "outputs": [],
   "source": [
    "pixels_1 = [(2,3,3), (2,4,.5), (3,3,.5), (6,4,0.5), (6,5,0.5)]\n",
    "pixels_7 = [(1,2,1.5), (3,5,1.5), (4,5,1), (0,5,0.5)]\n",
    "\n",
    "def flat_ind(index):\n",
    "    return np.ravel_multi_index(index, (8, 8))\n",
    "\n",
    "def reduce_dim(x):\n",
    "    reduced = np.empty((x.shape[0], 2))\n",
    "    # first feature is large for a 1\n",
    "    reduced[:,0] = np.sum([pixel[2]*x[:,flat_ind(pixel[:2])] for pixel in pixels_1], axis=0)\n",
    "    # second feature is large for a 7\n",
    "    reduced[:,1] = np.sum([pixel[2]*x[:,flat_ind(pixel[:2])] for pixel in pixels_7], axis=0)\n",
    "    return reduced"
   ]
  },
  {
   "cell_type": "markdown",
   "metadata": {},
   "source": [
    "## Validation of feature choice"
   ]
  },
  {
   "cell_type": "code",
   "execution_count": 8,
   "metadata": {
    "collapsed": true
   },
   "outputs": [],
   "source": [
    "X_train_r = reduce_dim(X_train)"
   ]
  },
  {
   "cell_type": "code",
   "execution_count": 9,
   "metadata": {},
   "outputs": [
    {
     "data": {
      "image/png": "[encoded data removed]",
      "text/plain": [
       "<matplotlib.figure.Figure at 0x112679470>"
      ]
     },
     "metadata": {},
     "output_type": "display_data"
    }
   ],
   "source": [
    "fig, ax = plt.subplots(1, 1)\n",
    "# plot the 1's\n",
    "ax.scatter(get_class(X_train_r, y_train, 1)[:,0], get_class(X_train_r, y_train, 1)[:,1], marker='o', label=\"1\")\n",
    "# plot the 7's\n",
    "ax.scatter(get_class(X_train_r, y_train, 7)[:,0], get_class(X_train_r, y_train, 7)[:,1], marker='x', label=\"7\")\n",
    "ax.set_xlabel('Feature 1')\n",
    "ax.set_ylabel('Feature 2')\n",
    "ax.legend()\n",
    "plt.show()"
   ]
  },
  {
   "cell_type": "markdown",
   "metadata": {},
   "source": [
    "Not to good, as required :D"
   ]
  },
  {
   "cell_type": "markdown",
   "metadata": {},
   "source": [
    "# Nearest Mean Classifier"
   ]
  },
  {
   "cell_type": "code",
   "execution_count": 10,
   "metadata": {
    "collapsed": true
   },
   "outputs": [],
   "source": [
    "def nearest_mean(training_features, training_labels, test_features):\n",
    "    \"\"\"\n",
    "    This function implements the nearest mean classifier\n",
    "    \"\"\"\n",
    "    # calculating the mean of feature 1 and feature 2 for the training set of digit 1\n",
    "    mean_1 = np.mean(get_class(training_features, training_labels, 1), axis = 0)\n",
    "    # calculating the mean of feature 1 and feature 2 for the training set of digit 7\n",
    "    mean_7 = np.mean(get_class(training_features, training_labels, 7), axis = 0)\n",
    "    \n",
    "    # create distance matrix\n",
    "    distances = np.empty_like(test_features)\n",
    "    \n",
    "    distances[:,0] = np.sqrt(np.sum([(test_features[:,i] - mean_1[i])**2 for i in range(2)], axis=0)) # distance to cluster 1\n",
    "    distances[:,1] = np.sqrt(np.sum([(test_features[:,i] - mean_7[i])**2 for i in range(2)], axis=0)) # distance to cluster 7\n",
    "    \n",
    "    # create prediction\n",
    "    prediction = np.empty((test_features.shape[0]), dtype=float)\n",
    "    prediction[:] = 1 # set all to label 1\n",
    "    # if distance to 7 is smaller: set to label 7\n",
    "    prediction[distances[:,0] > distances[:,1]] = 7\n",
    "    \n",
    "    return prediction"
   ]
  },
  {
   "cell_type": "markdown",
   "metadata": {},
   "source": [
    "## Visualisation of decision regions"
   ]
  },
  {
   "cell_type": "code",
   "execution_count": 11,
   "metadata": {
    "collapsed": true
   },
   "outputs": [],
   "source": [
    "grid_feat_1 = np.linspace(np.min(X_train_r[:,0]), np.max(X_train_r[:,0]), 300)\n",
    "grid_feat_2 = np.linspace(np.min(X_train_r[:,1]), np.max(X_train_r[:,1]), 300)\n",
    "# thanks to SO :D\n",
    "grid = np.transpose([np.tile(grid_feat_1, len(grid_feat_2)), np.repeat(grid_feat_2, len(grid_feat_1))])\n",
    "\n",
    "grid_prediction = nearest_mean(X_train_r, y_train, grid)"
   ]
  },
  {
   "cell_type": "code",
   "execution_count": 12,
   "metadata": {},
   "outputs": [
    {
     "data": {
      "image/png": "[encoded data removed]",
      "text/plain": [
       "<matplotlib.figure.Figure at 0x11a127c18>"
      ]
     },
     "metadata": {},
     "output_type": "display_data"
    }
   ],
   "source": [
    "# reduce the test data to two dimensions\n",
    "X_test_r = reduce_dim(X_test)\n",
    "\n",
    "# Create the plot\n",
    "fig, ax = plt.subplots(1, 1, figsize=(15, 10))\n",
    "# plot the decision region\n",
    "scat = ax.scatter(grid[:,0], grid[:,1], c=grid_prediction, marker='s', cmap='PRGn')\n",
    "cbar = plt.colorbar(scat, ticks=[1, 7])\n",
    "# plot the test data\n",
    "ax.scatter(get_class(X_test_r, y_test, 1)[:,0], get_class(X_test_r, y_test, 1)[:,1], marker='x', color='blueviolet', label=\"test 1\")\n",
    "ax.scatter(get_class(X_test_r, y_test, 7)[:,0], get_class(X_test_r, y_test, 7)[:,1], marker='x', color='forestgreen', label=\"test 7\")\n",
    "# plot the means for 1 and 7\n",
    "ax.scatter(*np.mean(get_class(X_train_r, y_train, 1), axis = 0), marker='o', color='blueviolet', label=\"mean 1\")\n",
    "ax.scatter(*np.mean(get_class(X_train_r, y_train, 7), axis = 0), marker='o', color='forestgreen', label=\"mean 7\")\n",
    "# labelling\n",
    "ax.set_xlabel('Feature 1')\n",
    "ax.set_ylabel('Feature 2')\n",
    "ax.legend(loc=3)\n",
    "plt.show()"
   ]
  },
  {
   "cell_type": "code",
   "execution_count": null,
   "metadata": {
    "collapsed": true
   },
   "outputs": [],
   "source": []
  }
 ],
 "metadata": {
  "kernelspec": {
   "display_name": "Python 3",
   "language": "python",
   "name": "python3"
  },
  "language_info": {
   "codemirror_mode": {
    "name": "ipython",
    "version": 3
   },
   "file_extension": ".py",
   "mimetype": "text/x-python",
   "name": "python",
   "nbconvert_exporter": "python",
   "pygments_lexer": "ipython3",
   "version": "3.6.1"
  }
 },
 "nbformat": 4,
 "nbformat_minor": 2
}
